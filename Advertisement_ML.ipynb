{
  "cells": [
    {
      "cell_type": "code",
      "execution_count": null,
      "metadata": {
        "id": "lauPjrM8HRMw"
      },
      "outputs": [],
      "source": [
        "import numpy as np\n",
        "import pandas as pd\n",
        "import matplotlib.pyplot as plt\n",
        "import seaborn as sns\n",
        "from scipy.stats import iqr\n",
        "\n",
        "import warnings\n",
        "warnings.filterwarnings(\"ignore\")"
      ],
      "id": "lauPjrM8HRMw"
    },
    {
      "cell_type": "code",
      "execution_count": null,
      "metadata": {
        "id": "LL8YfW9eHRMx",
        "outputId": "4b77c16b-54ca-440f-85d2-1ece1738f72d",
        "colab": {
          "base_uri": "https://localhost:8080/",
          "height": 112
        }
      },
      "outputs": [
        {
          "output_type": "execute_result",
          "data": {
            "text/plain": [
              "      TV  radio  newspaper  sales\n",
              "1  230.1   37.8       69.2   22.1\n",
              "2   44.5   39.3       45.1   10.4"
            ],
            "text/html": [
              "\n",
              "  <div id=\"df-c85da5c3-9485-4bfe-9098-99528641b9b9\">\n",
              "    <div class=\"colab-df-container\">\n",
              "      <div>\n",
              "<style scoped>\n",
              "    .dataframe tbody tr th:only-of-type {\n",
              "        vertical-align: middle;\n",
              "    }\n",
              "\n",
              "    .dataframe tbody tr th {\n",
              "        vertical-align: top;\n",
              "    }\n",
              "\n",
              "    .dataframe thead th {\n",
              "        text-align: right;\n",
              "    }\n",
              "</style>\n",
              "<table border=\"1\" class=\"dataframe\">\n",
              "  <thead>\n",
              "    <tr style=\"text-align: right;\">\n",
              "      <th></th>\n",
              "      <th>TV</th>\n",
              "      <th>radio</th>\n",
              "      <th>newspaper</th>\n",
              "      <th>sales</th>\n",
              "    </tr>\n",
              "  </thead>\n",
              "  <tbody>\n",
              "    <tr>\n",
              "      <th>1</th>\n",
              "      <td>230.1</td>\n",
              "      <td>37.8</td>\n",
              "      <td>69.2</td>\n",
              "      <td>22.1</td>\n",
              "    </tr>\n",
              "    <tr>\n",
              "      <th>2</th>\n",
              "      <td>44.5</td>\n",
              "      <td>39.3</td>\n",
              "      <td>45.1</td>\n",
              "      <td>10.4</td>\n",
              "    </tr>\n",
              "  </tbody>\n",
              "</table>\n",
              "</div>\n",
              "      <button class=\"colab-df-convert\" onclick=\"convertToInteractive('df-c85da5c3-9485-4bfe-9098-99528641b9b9')\"\n",
              "              title=\"Convert this dataframe to an interactive table.\"\n",
              "              style=\"display:none;\">\n",
              "        \n",
              "  <svg xmlns=\"http://www.w3.org/2000/svg\" height=\"24px\"viewBox=\"0 0 24 24\"\n",
              "       width=\"24px\">\n",
              "    <path d=\"M0 0h24v24H0V0z\" fill=\"none\"/>\n",
              "    <path d=\"M18.56 5.44l.94 2.06.94-2.06 2.06-.94-2.06-.94-.94-2.06-.94 2.06-2.06.94zm-11 1L8.5 8.5l.94-2.06 2.06-.94-2.06-.94L8.5 2.5l-.94 2.06-2.06.94zm10 10l.94 2.06.94-2.06 2.06-.94-2.06-.94-.94-2.06-.94 2.06-2.06.94z\"/><path d=\"M17.41 7.96l-1.37-1.37c-.4-.4-.92-.59-1.43-.59-.52 0-1.04.2-1.43.59L10.3 9.45l-7.72 7.72c-.78.78-.78 2.05 0 2.83L4 21.41c.39.39.9.59 1.41.59.51 0 1.02-.2 1.41-.59l7.78-7.78 2.81-2.81c.8-.78.8-2.07 0-2.86zM5.41 20L4 18.59l7.72-7.72 1.47 1.35L5.41 20z\"/>\n",
              "  </svg>\n",
              "      </button>\n",
              "      \n",
              "  <style>\n",
              "    .colab-df-container {\n",
              "      display:flex;\n",
              "      flex-wrap:wrap;\n",
              "      gap: 12px;\n",
              "    }\n",
              "\n",
              "    .colab-df-convert {\n",
              "      background-color: #E8F0FE;\n",
              "      border: none;\n",
              "      border-radius: 50%;\n",
              "      cursor: pointer;\n",
              "      display: none;\n",
              "      fill: #1967D2;\n",
              "      height: 32px;\n",
              "      padding: 0 0 0 0;\n",
              "      width: 32px;\n",
              "    }\n",
              "\n",
              "    .colab-df-convert:hover {\n",
              "      background-color: #E2EBFA;\n",
              "      box-shadow: 0px 1px 2px rgba(60, 64, 67, 0.3), 0px 1px 3px 1px rgba(60, 64, 67, 0.15);\n",
              "      fill: #174EA6;\n",
              "    }\n",
              "\n",
              "    [theme=dark] .colab-df-convert {\n",
              "      background-color: #3B4455;\n",
              "      fill: #D2E3FC;\n",
              "    }\n",
              "\n",
              "    [theme=dark] .colab-df-convert:hover {\n",
              "      background-color: #434B5C;\n",
              "      box-shadow: 0px 1px 3px 1px rgba(0, 0, 0, 0.15);\n",
              "      filter: drop-shadow(0px 1px 2px rgba(0, 0, 0, 0.3));\n",
              "      fill: #FFFFFF;\n",
              "    }\n",
              "  </style>\n",
              "\n",
              "      <script>\n",
              "        const buttonEl =\n",
              "          document.querySelector('#df-c85da5c3-9485-4bfe-9098-99528641b9b9 button.colab-df-convert');\n",
              "        buttonEl.style.display =\n",
              "          google.colab.kernel.accessAllowed ? 'block' : 'none';\n",
              "\n",
              "        async function convertToInteractive(key) {\n",
              "          const element = document.querySelector('#df-c85da5c3-9485-4bfe-9098-99528641b9b9');\n",
              "          const dataTable =\n",
              "            await google.colab.kernel.invokeFunction('convertToInteractive',\n",
              "                                                     [key], {});\n",
              "          if (!dataTable) return;\n",
              "\n",
              "          const docLinkHtml = 'Like what you see? Visit the ' +\n",
              "            '<a target=\"_blank\" href=https://colab.research.google.com/notebooks/data_table.ipynb>data table notebook</a>'\n",
              "            + ' to learn more about interactive tables.';\n",
              "          element.innerHTML = '';\n",
              "          dataTable['output_type'] = 'display_data';\n",
              "          await google.colab.output.renderOutput(dataTable, element);\n",
              "          const docLink = document.createElement('div');\n",
              "          docLink.innerHTML = docLinkHtml;\n",
              "          element.appendChild(docLink);\n",
              "        }\n",
              "      </script>\n",
              "    </div>\n",
              "  </div>\n",
              "  "
            ]
          },
          "metadata": {},
          "execution_count": 2
        }
      ],
      "source": [
        "data = pd.read_csv(\"https://raw.githubusercontent.com/ingledarshan/upGrad_Darshan/main/Advertising.csv\", index_col=0)\n",
        "data.head(2)"
      ],
      "id": "LL8YfW9eHRMx"
    },
    {
      "cell_type": "markdown",
      "metadata": {
        "id": "hrxfHZglHRMy"
      },
      "source": [
        "## Exploratory Data Analysis"
      ],
      "id": "hrxfHZglHRMy"
    },
    {
      "cell_type": "code",
      "execution_count": null,
      "metadata": {
        "id": "57kdYl8yHRMz",
        "outputId": "c07d1713-0ecd-4fb6-a573-978e2de1da2f",
        "colab": {
          "base_uri": "https://localhost:8080/"
        }
      },
      "outputs": [
        {
          "output_type": "execute_result",
          "data": {
            "text/plain": [
              "(200, 4)"
            ]
          },
          "metadata": {},
          "execution_count": 3
        }
      ],
      "source": [
        "data.shape"
      ],
      "id": "57kdYl8yHRMz"
    },
    {
      "cell_type": "code",
      "execution_count": null,
      "metadata": {
        "id": "ygRPwM6QHRM0",
        "outputId": "9463a52d-578d-4932-9d78-a1cc4248e27a",
        "colab": {
          "base_uri": "https://localhost:8080/"
        }
      },
      "outputs": [
        {
          "output_type": "execute_result",
          "data": {
            "text/plain": [
              "(200, 4)"
            ]
          },
          "metadata": {},
          "execution_count": 4
        }
      ],
      "source": [
        "data.shape"
      ],
      "id": "ygRPwM6QHRM0"
    },
    {
      "cell_type": "code",
      "execution_count": null,
      "metadata": {
        "scrolled": true,
        "id": "Y2OfKVy0HRM0",
        "outputId": "938f36e0-a78c-4f3b-803d-48cc9179f45e",
        "colab": {
          "base_uri": "https://localhost:8080/"
        }
      },
      "outputs": [
        {
          "output_type": "stream",
          "name": "stdout",
          "text": [
            "<class 'pandas.core.frame.DataFrame'>\n",
            "Int64Index: 200 entries, 1 to 200\n",
            "Data columns (total 4 columns):\n",
            " #   Column     Non-Null Count  Dtype  \n",
            "---  ------     --------------  -----  \n",
            " 0   TV         200 non-null    float64\n",
            " 1   radio      200 non-null    float64\n",
            " 2   newspaper  200 non-null    float64\n",
            " 3   sales      200 non-null    float64\n",
            "dtypes: float64(4)\n",
            "memory usage: 7.8 KB\n"
          ]
        }
      ],
      "source": [
        "data.info()"
      ],
      "id": "Y2OfKVy0HRM0"
    },
    {
      "cell_type": "code",
      "execution_count": null,
      "metadata": {
        "scrolled": true,
        "id": "UaFDTDLbHRM1",
        "outputId": "985e31c2-2b85-484c-e5d1-896e7cff43a3",
        "colab": {
          "base_uri": "https://localhost:8080/",
          "height": 300
        }
      },
      "outputs": [
        {
          "output_type": "execute_result",
          "data": {
            "text/plain": [
              "               TV       radio   newspaper       sales\n",
              "count  200.000000  200.000000  200.000000  200.000000\n",
              "mean   147.042500   23.264000   30.554000   14.022500\n",
              "std     85.854236   14.846809   21.778621    5.217457\n",
              "min      0.700000    0.000000    0.300000    1.600000\n",
              "25%     74.375000    9.975000   12.750000   10.375000\n",
              "50%    149.750000   22.900000   25.750000   12.900000\n",
              "75%    218.825000   36.525000   45.100000   17.400000\n",
              "max    296.400000   49.600000  114.000000   27.000000"
            ],
            "text/html": [
              "\n",
              "  <div id=\"df-87555957-e2c1-4b2b-a472-6a6068d385bc\">\n",
              "    <div class=\"colab-df-container\">\n",
              "      <div>\n",
              "<style scoped>\n",
              "    .dataframe tbody tr th:only-of-type {\n",
              "        vertical-align: middle;\n",
              "    }\n",
              "\n",
              "    .dataframe tbody tr th {\n",
              "        vertical-align: top;\n",
              "    }\n",
              "\n",
              "    .dataframe thead th {\n",
              "        text-align: right;\n",
              "    }\n",
              "</style>\n",
              "<table border=\"1\" class=\"dataframe\">\n",
              "  <thead>\n",
              "    <tr style=\"text-align: right;\">\n",
              "      <th></th>\n",
              "      <th>TV</th>\n",
              "      <th>radio</th>\n",
              "      <th>newspaper</th>\n",
              "      <th>sales</th>\n",
              "    </tr>\n",
              "  </thead>\n",
              "  <tbody>\n",
              "    <tr>\n",
              "      <th>count</th>\n",
              "      <td>200.000000</td>\n",
              "      <td>200.000000</td>\n",
              "      <td>200.000000</td>\n",
              "      <td>200.000000</td>\n",
              "    </tr>\n",
              "    <tr>\n",
              "      <th>mean</th>\n",
              "      <td>147.042500</td>\n",
              "      <td>23.264000</td>\n",
              "      <td>30.554000</td>\n",
              "      <td>14.022500</td>\n",
              "    </tr>\n",
              "    <tr>\n",
              "      <th>std</th>\n",
              "      <td>85.854236</td>\n",
              "      <td>14.846809</td>\n",
              "      <td>21.778621</td>\n",
              "      <td>5.217457</td>\n",
              "    </tr>\n",
              "    <tr>\n",
              "      <th>min</th>\n",
              "      <td>0.700000</td>\n",
              "      <td>0.000000</td>\n",
              "      <td>0.300000</td>\n",
              "      <td>1.600000</td>\n",
              "    </tr>\n",
              "    <tr>\n",
              "      <th>25%</th>\n",
              "      <td>74.375000</td>\n",
              "      <td>9.975000</td>\n",
              "      <td>12.750000</td>\n",
              "      <td>10.375000</td>\n",
              "    </tr>\n",
              "    <tr>\n",
              "      <th>50%</th>\n",
              "      <td>149.750000</td>\n",
              "      <td>22.900000</td>\n",
              "      <td>25.750000</td>\n",
              "      <td>12.900000</td>\n",
              "    </tr>\n",
              "    <tr>\n",
              "      <th>75%</th>\n",
              "      <td>218.825000</td>\n",
              "      <td>36.525000</td>\n",
              "      <td>45.100000</td>\n",
              "      <td>17.400000</td>\n",
              "    </tr>\n",
              "    <tr>\n",
              "      <th>max</th>\n",
              "      <td>296.400000</td>\n",
              "      <td>49.600000</td>\n",
              "      <td>114.000000</td>\n",
              "      <td>27.000000</td>\n",
              "    </tr>\n",
              "  </tbody>\n",
              "</table>\n",
              "</div>\n",
              "      <button class=\"colab-df-convert\" onclick=\"convertToInteractive('df-87555957-e2c1-4b2b-a472-6a6068d385bc')\"\n",
              "              title=\"Convert this dataframe to an interactive table.\"\n",
              "              style=\"display:none;\">\n",
              "        \n",
              "  <svg xmlns=\"http://www.w3.org/2000/svg\" height=\"24px\"viewBox=\"0 0 24 24\"\n",
              "       width=\"24px\">\n",
              "    <path d=\"M0 0h24v24H0V0z\" fill=\"none\"/>\n",
              "    <path d=\"M18.56 5.44l.94 2.06.94-2.06 2.06-.94-2.06-.94-.94-2.06-.94 2.06-2.06.94zm-11 1L8.5 8.5l.94-2.06 2.06-.94-2.06-.94L8.5 2.5l-.94 2.06-2.06.94zm10 10l.94 2.06.94-2.06 2.06-.94-2.06-.94-.94-2.06-.94 2.06-2.06.94z\"/><path d=\"M17.41 7.96l-1.37-1.37c-.4-.4-.92-.59-1.43-.59-.52 0-1.04.2-1.43.59L10.3 9.45l-7.72 7.72c-.78.78-.78 2.05 0 2.83L4 21.41c.39.39.9.59 1.41.59.51 0 1.02-.2 1.41-.59l7.78-7.78 2.81-2.81c.8-.78.8-2.07 0-2.86zM5.41 20L4 18.59l7.72-7.72 1.47 1.35L5.41 20z\"/>\n",
              "  </svg>\n",
              "      </button>\n",
              "      \n",
              "  <style>\n",
              "    .colab-df-container {\n",
              "      display:flex;\n",
              "      flex-wrap:wrap;\n",
              "      gap: 12px;\n",
              "    }\n",
              "\n",
              "    .colab-df-convert {\n",
              "      background-color: #E8F0FE;\n",
              "      border: none;\n",
              "      border-radius: 50%;\n",
              "      cursor: pointer;\n",
              "      display: none;\n",
              "      fill: #1967D2;\n",
              "      height: 32px;\n",
              "      padding: 0 0 0 0;\n",
              "      width: 32px;\n",
              "    }\n",
              "\n",
              "    .colab-df-convert:hover {\n",
              "      background-color: #E2EBFA;\n",
              "      box-shadow: 0px 1px 2px rgba(60, 64, 67, 0.3), 0px 1px 3px 1px rgba(60, 64, 67, 0.15);\n",
              "      fill: #174EA6;\n",
              "    }\n",
              "\n",
              "    [theme=dark] .colab-df-convert {\n",
              "      background-color: #3B4455;\n",
              "      fill: #D2E3FC;\n",
              "    }\n",
              "\n",
              "    [theme=dark] .colab-df-convert:hover {\n",
              "      background-color: #434B5C;\n",
              "      box-shadow: 0px 1px 3px 1px rgba(0, 0, 0, 0.15);\n",
              "      filter: drop-shadow(0px 1px 2px rgba(0, 0, 0, 0.3));\n",
              "      fill: #FFFFFF;\n",
              "    }\n",
              "  </style>\n",
              "\n",
              "      <script>\n",
              "        const buttonEl =\n",
              "          document.querySelector('#df-87555957-e2c1-4b2b-a472-6a6068d385bc button.colab-df-convert');\n",
              "        buttonEl.style.display =\n",
              "          google.colab.kernel.accessAllowed ? 'block' : 'none';\n",
              "\n",
              "        async function convertToInteractive(key) {\n",
              "          const element = document.querySelector('#df-87555957-e2c1-4b2b-a472-6a6068d385bc');\n",
              "          const dataTable =\n",
              "            await google.colab.kernel.invokeFunction('convertToInteractive',\n",
              "                                                     [key], {});\n",
              "          if (!dataTable) return;\n",
              "\n",
              "          const docLinkHtml = 'Like what you see? Visit the ' +\n",
              "            '<a target=\"_blank\" href=https://colab.research.google.com/notebooks/data_table.ipynb>data table notebook</a>'\n",
              "            + ' to learn more about interactive tables.';\n",
              "          element.innerHTML = '';\n",
              "          dataTable['output_type'] = 'display_data';\n",
              "          await google.colab.output.renderOutput(dataTable, element);\n",
              "          const docLink = document.createElement('div');\n",
              "          docLink.innerHTML = docLinkHtml;\n",
              "          element.appendChild(docLink);\n",
              "        }\n",
              "      </script>\n",
              "    </div>\n",
              "  </div>\n",
              "  "
            ]
          },
          "metadata": {},
          "execution_count": 7
        }
      ],
      "source": [
        "data.describe()"
      ],
      "id": "UaFDTDLbHRM1"
    },
    {
      "cell_type": "code",
      "execution_count": null,
      "metadata": {
        "id": "Kj7zTp88HRM1",
        "outputId": "878ff0b8-a919-46df-c7bc-d03e2aee259c",
        "colab": {
          "base_uri": "https://localhost:8080/"
        }
      },
      "outputs": [
        {
          "output_type": "execute_result",
          "data": {
            "text/plain": [
              "7.024999999999999"
            ]
          },
          "metadata": {},
          "execution_count": 3
        }
      ],
      "source": [
        "from scipy.stats import iqr\n",
        "iqr(data['sales'])\n"
      ],
      "id": "Kj7zTp88HRM1"
    },
    {
      "cell_type": "code",
      "execution_count": null,
      "metadata": {
        "id": "EuVeGIBEHRM1",
        "outputId": "92562d6d-7e03-4bf7-8991-55d5f6e6cf52",
        "colab": {
          "base_uri": "https://localhost:8080/"
        }
      },
      "outputs": [
        {
          "output_type": "execute_result",
          "data": {
            "text/plain": [
              "7.024999999999999"
            ]
          },
          "metadata": {},
          "execution_count": 4
        }
      ],
      "source": [
        "q1 = data['sales'].quantile(.25)\n",
        "q3 = data['sales'].quantile(.75)\n",
        "iqr= q3 - q1\n",
        "iqr"
      ],
      "id": "EuVeGIBEHRM1"
    },
    {
      "cell_type": "code",
      "execution_count": null,
      "metadata": {
        "id": "nMmCQo_VHRM2",
        "outputId": "503b46ee-2443-40c3-b781-200fe0adbfeb",
        "colab": {
          "base_uri": "https://localhost:8080/",
          "height": 449
        }
      },
      "outputs": [
        {
          "output_type": "display_data",
          "data": {
            "text/plain": [
              "<Figure size 640x480 with 1 Axes>"
            ],
            "image/png": "[encoded data removed]"
          },
          "metadata": {}
        }
      ],
      "source": [
        "sns.distplot(data.sales)\n",
        "plt.axvline(data.sales.mean(), color='b')\n",
        "# plt.axvline(data.sales.quantile(0.), color='g')\n",
        "# plt.axvline(data.sales.quantile(.25), color='g')\n",
        "plt.axvline(data.sales.quantile(.5), color='g')\n",
        "# plt.axvline(data.sales.quantile(.75), color='g')\n",
        "# plt.axvline(data.sales.quantile(1.), color='g')\n",
        "plt.show()"
      ],
      "id": "nMmCQo_VHRM2"
    },
    {
      "cell_type": "code",
      "execution_count": null,
      "metadata": {
        "id": "tVNUwKYQHRM3",
        "outputId": "ce1e134a-5bff-4f39-f28e-2af285852373",
        "colab": {
          "base_uri": "https://localhost:8080/",
          "height": 449
        }
      },
      "outputs": [
        {
          "output_type": "display_data",
          "data": {
            "text/plain": [
              "<Figure size 640x480 with 1 Axes>"
            ],
            "image/png": "[encoded data removed]"
          },
          "metadata": {}
        }
      ],
      "source": [
        "sns.distplot(data.newspaper)\n",
        "plt.axvline(data.newspaper.mean(), color='b')\n",
        "plt.axvline(data.newspaper.median(), color='r')\n",
        "plt.show()"
      ],
      "id": "tVNUwKYQHRM3"
    },
    {
      "cell_type": "code",
      "execution_count": null,
      "metadata": {
        "id": "84KUxWWRHRM4",
        "outputId": "12a42983-6e4e-46d1-8c21-90ff546d174b"
      },
      "outputs": [
        {
          "data": {
            "image/png": "[encoded data removed]",
            "text/plain": [
              "<Figure size 432x288 with 1 Axes>"
            ]
          },
          "metadata": {
            "needs_background": "light"
          },
          "output_type": "display_data"
        }
      ],
      "source": [
        "sns.distplot(data.newspaper);"
      ],
      "id": "84KUxWWRHRM4"
    },
    {
      "cell_type": "markdown",
      "metadata": {
        "id": "ekEeoX-tHRM7"
      },
      "source": [
        ">Sales seems to be normally distributed.\n",
        "\n",
        ">Spend of Newspaper is right skewed.\n",
        "\n",
        ">TV and Radio are normally distributed."
      ],
      "id": "ekEeoX-tHRM7"
    },
    {
      "cell_type": "code",
      "execution_count": null,
      "metadata": {
        "id": "dD5TpFilHRM8",
        "outputId": "04e3671b-79ef-4335-cf25-716b6c5fbaec"
      },
      "outputs": [
        {
          "data": {
            "text/html": [
              "<div>\n",
              "<style scoped>\n",
              "    .dataframe tbody tr th:only-of-type {\n",
              "        vertical-align: middle;\n",
              "    }\n",
              "\n",
              "    .dataframe tbody tr th {\n",
              "        vertical-align: top;\n",
              "    }\n",
              "\n",
              "    .dataframe thead th {\n",
              "        text-align: right;\n",
              "    }\n",
              "</style>\n",
              "<table border=\"1\" class=\"dataframe\">\n",
              "  <thead>\n",
              "    <tr style=\"text-align: right;\">\n",
              "      <th></th>\n",
              "      <th>TV</th>\n",
              "      <th>radio</th>\n",
              "      <th>newspaper</th>\n",
              "      <th>sales</th>\n",
              "    </tr>\n",
              "  </thead>\n",
              "  <tbody>\n",
              "    <tr>\n",
              "      <th>1</th>\n",
              "      <td>230.1</td>\n",
              "      <td>37.8</td>\n",
              "      <td>69.2</td>\n",
              "      <td>22.1</td>\n",
              "    </tr>\n",
              "    <tr>\n",
              "      <th>2</th>\n",
              "      <td>44.5</td>\n",
              "      <td>39.3</td>\n",
              "      <td>45.1</td>\n",
              "      <td>10.4</td>\n",
              "    </tr>\n",
              "    <tr>\n",
              "      <th>3</th>\n",
              "      <td>17.2</td>\n",
              "      <td>45.9</td>\n",
              "      <td>69.3</td>\n",
              "      <td>9.3</td>\n",
              "    </tr>\n",
              "    <tr>\n",
              "      <th>4</th>\n",
              "      <td>151.5</td>\n",
              "      <td>41.3</td>\n",
              "      <td>58.5</td>\n",
              "      <td>18.5</td>\n",
              "    </tr>\n",
              "    <tr>\n",
              "      <th>5</th>\n",
              "      <td>180.8</td>\n",
              "      <td>10.8</td>\n",
              "      <td>58.4</td>\n",
              "      <td>12.9</td>\n",
              "    </tr>\n",
              "  </tbody>\n",
              "</table>\n",
              "</div>"
            ],
            "text/plain": [
              "      TV  radio  newspaper  sales\n",
              "1  230.1   37.8       69.2   22.1\n",
              "2   44.5   39.3       45.1   10.4\n",
              "3   17.2   45.9       69.3    9.3\n",
              "4  151.5   41.3       58.5   18.5\n",
              "5  180.8   10.8       58.4   12.9"
            ]
          },
          "execution_count": 127,
          "metadata": {},
          "output_type": "execute_result"
        }
      ],
      "source": [
        "data.head()"
      ],
      "id": "dD5TpFilHRM8"
    },
    {
      "cell_type": "code",
      "execution_count": null,
      "metadata": {
        "id": "4JdXhtfCHRM9",
        "outputId": "def08503-8e42-4f02-edf8-a21d273c4b1b",
        "colab": {
          "base_uri": "https://localhost:8080/",
          "height": 171
        }
      },
      "outputs": [
        {
          "output_type": "error",
          "ename": "TypeError",
          "evalue": "ignored",
          "traceback": [
            "\u001b[0;31m---------------------------------------------------------------------------\u001b[0m",
            "\u001b[0;31mTypeError\u001b[0m                                 Traceback (most recent call last)",
            "\u001b[0;32m<ipython-input-9-23a574727a6f>\u001b[0m in \u001b[0;36m<cell line: 1>\u001b[0;34m()\u001b[0m\n\u001b[0;32m----> 1\u001b[0;31m \u001b[0msns\u001b[0m\u001b[0;34m.\u001b[0m\u001b[0mjointplot\u001b[0m\u001b[0;34m(\u001b[0m\u001b[0;34m\"newspaper\"\u001b[0m\u001b[0;34m,\u001b[0m\u001b[0;34m\"sales\"\u001b[0m\u001b[0;34m,\u001b[0m\u001b[0mdata\u001b[0m\u001b[0;34m=\u001b[0m\u001b[0mdata\u001b[0m\u001b[0;34m,\u001b[0m\u001b[0mkind\u001b[0m\u001b[0;34m=\u001b[0m\u001b[0;34m'reg'\u001b[0m\u001b[0;34m)\u001b[0m\u001b[0;34m;\u001b[0m\u001b[0;34m\u001b[0m\u001b[0;34m\u001b[0m\u001b[0m\n\u001b[0m",
            "\u001b[0;31mTypeError\u001b[0m: jointplot() got multiple values for argument 'data'"
          ]
        }
      ],
      "source": [
        "sns.jointplot(\"newspaper\",\"sales\",data=data,kind='reg');"
      ],
      "id": "4JdXhtfCHRM9"
    },
    {
      "cell_type": "code",
      "execution_count": null,
      "metadata": {
        "id": "iIbpbbkIHRM9",
        "outputId": "71447d56-371e-4898-fd21-8c5aa4932659"
      },
      "outputs": [
        {
          "data": {
            "image/png": "[encoded data removed]",
            "text/plain": [
              "<Figure size 432x432 with 3 Axes>"
            ]
          },
          "metadata": {
            "needs_background": "light"
          },
          "output_type": "display_data"
        }
      ],
      "source": [
        "sns.jointplot(\"radio\",\"sales\",data=data, kind='reg');"
      ],
      "id": "iIbpbbkIHRM9"
    },
    {
      "cell_type": "code",
      "execution_count": null,
      "metadata": {
        "id": "EmR11Z5dHRM9",
        "outputId": "acfe43c8-7b58-459a-8fa7-d06cf9eed949"
      },
      "outputs": [
        {
          "data": {
            "image/png": "[encoded data removed]",
            "text/plain": [
              "<Figure size 432x432 with 3 Axes>"
            ]
          },
          "metadata": {
            "needs_background": "light"
          },
          "output_type": "display_data"
        }
      ],
      "source": [
        "sns.jointplot(\"TV\",\"sales\",data=data, kind='reg');"
      ],
      "id": "EmR11Z5dHRM9"
    },
    {
      "cell_type": "markdown",
      "metadata": {
        "id": "Q_7LoRt7HRM-"
      },
      "source": [
        ">TV is most important for predicting Sales.\n",
        "\n",
        ">Radio is less important for predicting Sales.\n",
        "\n",
        ">Newspaper is least important/not important for predicting Sales."
      ],
      "id": "Q_7LoRt7HRM-"
    },
    {
      "cell_type": "code",
      "execution_count": null,
      "metadata": {
        "id": "e9OX-pKQHRM-",
        "outputId": "581142e7-66ac-4772-9fc2-ffc7a4989b8d",
        "colab": {
          "base_uri": "https://localhost:8080/",
          "height": 1000
        }
      },
      "outputs": [
        {
          "output_type": "display_data",
          "data": {
            "text/plain": [
              "<Figure size 1000x1000 with 20 Axes>"
            ],
            "image/png": "[encoded data removed]"
          },
          "metadata": {}
        }
      ],
      "source": [
        "sns.pairplot(data, aspect=1);"
      ],
      "id": "e9OX-pKQHRM-"
    },
    {
      "cell_type": "markdown",
      "metadata": {
        "id": "ZsFxXr-1HRM-"
      },
      "source": [
        "__We always want a high correlation between Independent Variable and Dependent Variable. The more high it is, the better is the feature for predicting the Target Variable.__\n",
        "\n",
        "\n",
        "__However, there must be least correlation between any two Independent variables. If any independent variables have high positive or high negative correlation, then it leads to a major issue in ML which is called MULTICOLLINEARITY.__\n",
        "\n",
        "__If we find two Independent variables with high positive or high negative correlation, then we remove any one of the Independent variable.__"
      ],
      "id": "ZsFxXr-1HRM-"
    },
    {
      "cell_type": "code",
      "execution_count": null,
      "metadata": {
        "id": "wBMqsY0bHRM-",
        "outputId": "0486bdec-e696-402c-8702-3b5cb32518f9",
        "colab": {
          "base_uri": "https://localhost:8080/",
          "height": 389
        }
      },
      "outputs": [
        {
          "output_type": "display_data",
          "data": {
            "text/plain": [
              "<Figure size 1500x500 with 3 Axes>"
            ],
            "image/png": "[encoded data removed]"
          },
          "metadata": {}
        }
      ],
      "source": [
        "sns.pairplot(data, x_vars=['TV','radio','newspaper'], y_vars='sales', size=5, aspect=1, kind='reg');"
      ],
      "id": "wBMqsY0bHRM-"
    },
    {
      "cell_type": "code",
      "execution_count": null,
      "metadata": {
        "id": "RW5qmGOEHRM_",
        "outputId": "37c5f7d2-9b1c-4749-e2bc-b2fad56e6227",
        "colab": {
          "base_uri": "https://localhost:8080/",
          "height": 175
        }
      },
      "outputs": [
        {
          "output_type": "execute_result",
          "data": {
            "text/plain": [
              "                 TV     radio  newspaper     sales\n",
              "TV         1.000000  0.054809   0.056648  0.782224\n",
              "radio      0.054809  1.000000   0.354104  0.576223\n",
              "newspaper  0.056648  0.354104   1.000000  0.228299\n",
              "sales      0.782224  0.576223   0.228299  1.000000"
            ],
            "text/html": [
              "\n",
              "  <div id=\"df-59b6c4dc-93ee-4fa5-8ce9-5417d2578297\">\n",
              "    <div class=\"colab-df-container\">\n",
              "      <div>\n",
              "<style scoped>\n",
              "    .dataframe tbody tr th:only-of-type {\n",
              "        vertical-align: middle;\n",
              "    }\n",
              "\n",
              "    .dataframe tbody tr th {\n",
              "        vertical-align: top;\n",
              "    }\n",
              "\n",
              "    .dataframe thead th {\n",
              "        text-align: right;\n",
              "    }\n",
              "</style>\n",
              "<table border=\"1\" class=\"dataframe\">\n",
              "  <thead>\n",
              "    <tr style=\"text-align: right;\">\n",
              "      <th></th>\n",
              "      <th>TV</th>\n",
              "      <th>radio</th>\n",
              "      <th>newspaper</th>\n",
              "      <th>sales</th>\n",
              "    </tr>\n",
              "  </thead>\n",
              "  <tbody>\n",
              "    <tr>\n",
              "      <th>TV</th>\n",
              "      <td>1.000000</td>\n",
              "      <td>0.054809</td>\n",
              "      <td>0.056648</td>\n",
              "      <td>0.782224</td>\n",
              "    </tr>\n",
              "    <tr>\n",
              "      <th>radio</th>\n",
              "      <td>0.054809</td>\n",
              "      <td>1.000000</td>\n",
              "      <td>0.354104</td>\n",
              "      <td>0.576223</td>\n",
              "    </tr>\n",
              "    <tr>\n",
              "      <th>newspaper</th>\n",
              "      <td>0.056648</td>\n",
              "      <td>0.354104</td>\n",
              "      <td>1.000000</td>\n",
              "      <td>0.228299</td>\n",
              "    </tr>\n",
              "    <tr>\n",
              "      <th>sales</th>\n",
              "      <td>0.782224</td>\n",
              "      <td>0.576223</td>\n",
              "      <td>0.228299</td>\n",
              "      <td>1.000000</td>\n",
              "    </tr>\n",
              "  </tbody>\n",
              "</table>\n",
              "</div>\n",
              "      <button class=\"colab-df-convert\" onclick=\"convertToInteractive('df-59b6c4dc-93ee-4fa5-8ce9-5417d2578297')\"\n",
              "              title=\"Convert this dataframe to an interactive table.\"\n",
              "              style=\"display:none;\">\n",
              "        \n",
              "  <svg xmlns=\"http://www.w3.org/2000/svg\" height=\"24px\"viewBox=\"0 0 24 24\"\n",
              "       width=\"24px\">\n",
              "    <path d=\"M0 0h24v24H0V0z\" fill=\"none\"/>\n",
              "    <path d=\"M18.56 5.44l.94 2.06.94-2.06 2.06-.94-2.06-.94-.94-2.06-.94 2.06-2.06.94zm-11 1L8.5 8.5l.94-2.06 2.06-.94-2.06-.94L8.5 2.5l-.94 2.06-2.06.94zm10 10l.94 2.06.94-2.06 2.06-.94-2.06-.94-.94-2.06-.94 2.06-2.06.94z\"/><path d=\"M17.41 7.96l-1.37-1.37c-.4-.4-.92-.59-1.43-.59-.52 0-1.04.2-1.43.59L10.3 9.45l-7.72 7.72c-.78.78-.78 2.05 0 2.83L4 21.41c.39.39.9.59 1.41.59.51 0 1.02-.2 1.41-.59l7.78-7.78 2.81-2.81c.8-.78.8-2.07 0-2.86zM5.41 20L4 18.59l7.72-7.72 1.47 1.35L5.41 20z\"/>\n",
              "  </svg>\n",
              "      </button>\n",
              "      \n",
              "  <style>\n",
              "    .colab-df-container {\n",
              "      display:flex;\n",
              "      flex-wrap:wrap;\n",
              "      gap: 12px;\n",
              "    }\n",
              "\n",
              "    .colab-df-convert {\n",
              "      background-color: #E8F0FE;\n",
              "      border: none;\n",
              "      border-radius: 50%;\n",
              "      cursor: pointer;\n",
              "      display: none;\n",
              "      fill: #1967D2;\n",
              "      height: 32px;\n",
              "      padding: 0 0 0 0;\n",
              "      width: 32px;\n",
              "    }\n",
              "\n",
              "    .colab-df-convert:hover {\n",
              "      background-color: #E2EBFA;\n",
              "      box-shadow: 0px 1px 2px rgba(60, 64, 67, 0.3), 0px 1px 3px 1px rgba(60, 64, 67, 0.15);\n",
              "      fill: #174EA6;\n",
              "    }\n",
              "\n",
              "    [theme=dark] .colab-df-convert {\n",
              "      background-color: #3B4455;\n",
              "      fill: #D2E3FC;\n",
              "    }\n",
              "\n",
              "    [theme=dark] .colab-df-convert:hover {\n",
              "      background-color: #434B5C;\n",
              "      box-shadow: 0px 1px 3px 1px rgba(0, 0, 0, 0.15);\n",
              "      filter: drop-shadow(0px 1px 2px rgba(0, 0, 0, 0.3));\n",
              "      fill: #FFFFFF;\n",
              "    }\n",
              "  </style>\n",
              "\n",
              "      <script>\n",
              "        const buttonEl =\n",
              "          document.querySelector('#df-59b6c4dc-93ee-4fa5-8ce9-5417d2578297 button.colab-df-convert');\n",
              "        buttonEl.style.display =\n",
              "          google.colab.kernel.accessAllowed ? 'block' : 'none';\n",
              "\n",
              "        async function convertToInteractive(key) {\n",
              "          const element = document.querySelector('#df-59b6c4dc-93ee-4fa5-8ce9-5417d2578297');\n",
              "          const dataTable =\n",
              "            await google.colab.kernel.invokeFunction('convertToInteractive',\n",
              "                                                     [key], {});\n",
              "          if (!dataTable) return;\n",
              "\n",
              "          const docLinkHtml = 'Like what you see? Visit the ' +\n",
              "            '<a target=\"_blank\" href=https://colab.research.google.com/notebooks/data_table.ipynb>data table notebook</a>'\n",
              "            + ' to learn more about interactive tables.';\n",
              "          element.innerHTML = '';\n",
              "          dataTable['output_type'] = 'display_data';\n",
              "          await google.colab.output.renderOutput(dataTable, element);\n",
              "          const docLink = document.createElement('div');\n",
              "          docLink.innerHTML = docLinkHtml;\n",
              "          element.appendChild(docLink);\n",
              "        }\n",
              "      </script>\n",
              "    </div>\n",
              "  </div>\n",
              "  "
            ]
          },
          "metadata": {},
          "execution_count": 10
        }
      ],
      "source": [
        "cor = data.corr()\n",
        "cor"
      ],
      "id": "RW5qmGOEHRM_"
    },
    {
      "cell_type": "code",
      "execution_count": null,
      "metadata": {
        "id": "KhnEINRzHRM_",
        "outputId": "f7bac700-e69f-4b10-bad0-bbf7660caf65",
        "colab": {
          "base_uri": "https://localhost:8080/",
          "height": 435
        }
      },
      "outputs": [
        {
          "output_type": "display_data",
          "data": {
            "text/plain": [
              "<Figure size 640x480 with 2 Axes>"
            ],
            "image/png": "[encoded data removed]"
          },
          "metadata": {}
        }
      ],
      "source": [
        "sns.heatmap(cor, annot=True);"
      ],
      "id": "KhnEINRzHRM_"
    },
    {
      "cell_type": "markdown",
      "metadata": {
        "id": "P0-yZZtrHRNA"
      },
      "source": [
        "# Data Preparation"
      ],
      "id": "P0-yZZtrHRNA"
    },
    {
      "cell_type": "code",
      "execution_count": null,
      "metadata": {
        "id": "y_YuR6NDHRNA",
        "outputId": "0936b4fa-4931-482a-bb28-74563a2e46d8",
        "colab": {
          "base_uri": "https://localhost:8080/",
          "height": 206
        }
      },
      "outputs": [
        {
          "output_type": "execute_result",
          "data": {
            "text/plain": [
              "      TV  radio  newspaper  sales\n",
              "1  230.1   37.8       69.2   22.1\n",
              "2   44.5   39.3       45.1   10.4\n",
              "3   17.2   45.9       69.3    9.3\n",
              "4  151.5   41.3       58.5   18.5\n",
              "5  180.8   10.8       58.4   12.9"
            ],
            "text/html": [
              "\n",
              "  <div id=\"df-c75fcf35-6afc-4e49-947c-34f51cf56284\">\n",
              "    <div class=\"colab-df-container\">\n",
              "      <div>\n",
              "<style scoped>\n",
              "    .dataframe tbody tr th:only-of-type {\n",
              "        vertical-align: middle;\n",
              "    }\n",
              "\n",
              "    .dataframe tbody tr th {\n",
              "        vertical-align: top;\n",
              "    }\n",
              "\n",
              "    .dataframe thead th {\n",
              "        text-align: right;\n",
              "    }\n",
              "</style>\n",
              "<table border=\"1\" class=\"dataframe\">\n",
              "  <thead>\n",
              "    <tr style=\"text-align: right;\">\n",
              "      <th></th>\n",
              "      <th>TV</th>\n",
              "      <th>radio</th>\n",
              "      <th>newspaper</th>\n",
              "      <th>sales</th>\n",
              "    </tr>\n",
              "  </thead>\n",
              "  <tbody>\n",
              "    <tr>\n",
              "      <th>1</th>\n",
              "      <td>230.1</td>\n",
              "      <td>37.8</td>\n",
              "      <td>69.2</td>\n",
              "      <td>22.1</td>\n",
              "    </tr>\n",
              "    <tr>\n",
              "      <th>2</th>\n",
              "      <td>44.5</td>\n",
              "      <td>39.3</td>\n",
              "      <td>45.1</td>\n",
              "      <td>10.4</td>\n",
              "    </tr>\n",
              "    <tr>\n",
              "      <th>3</th>\n",
              "      <td>17.2</td>\n",
              "      <td>45.9</td>\n",
              "      <td>69.3</td>\n",
              "      <td>9.3</td>\n",
              "    </tr>\n",
              "    <tr>\n",
              "      <th>4</th>\n",
              "      <td>151.5</td>\n",
              "      <td>41.3</td>\n",
              "      <td>58.5</td>\n",
              "      <td>18.5</td>\n",
              "    </tr>\n",
              "    <tr>\n",
              "      <th>5</th>\n",
              "      <td>180.8</td>\n",
              "      <td>10.8</td>\n",
              "      <td>58.4</td>\n",
              "      <td>12.9</td>\n",
              "    </tr>\n",
              "  </tbody>\n",
              "</table>\n",
              "</div>\n",
              "      <button class=\"colab-df-convert\" onclick=\"convertToInteractive('df-c75fcf35-6afc-4e49-947c-34f51cf56284')\"\n",
              "              title=\"Convert this dataframe to an interactive table.\"\n",
              "              style=\"display:none;\">\n",
              "        \n",
              "  <svg xmlns=\"http://www.w3.org/2000/svg\" height=\"24px\"viewBox=\"0 0 24 24\"\n",
              "       width=\"24px\">\n",
              "    <path d=\"M0 0h24v24H0V0z\" fill=\"none\"/>\n",
              "    <path d=\"M18.56 5.44l.94 2.06.94-2.06 2.06-.94-2.06-.94-.94-2.06-.94 2.06-2.06.94zm-11 1L8.5 8.5l.94-2.06 2.06-.94-2.06-.94L8.5 2.5l-.94 2.06-2.06.94zm10 10l.94 2.06.94-2.06 2.06-.94-2.06-.94-.94-2.06-.94 2.06-2.06.94z\"/><path d=\"M17.41 7.96l-1.37-1.37c-.4-.4-.92-.59-1.43-.59-.52 0-1.04.2-1.43.59L10.3 9.45l-7.72 7.72c-.78.78-.78 2.05 0 2.83L4 21.41c.39.39.9.59 1.41.59.51 0 1.02-.2 1.41-.59l7.78-7.78 2.81-2.81c.8-.78.8-2.07 0-2.86zM5.41 20L4 18.59l7.72-7.72 1.47 1.35L5.41 20z\"/>\n",
              "  </svg>\n",
              "      </button>\n",
              "      \n",
              "  <style>\n",
              "    .colab-df-container {\n",
              "      display:flex;\n",
              "      flex-wrap:wrap;\n",
              "      gap: 12px;\n",
              "    }\n",
              "\n",
              "    .colab-df-convert {\n",
              "      background-color: #E8F0FE;\n",
              "      border: none;\n",
              "      border-radius: 50%;\n",
              "      cursor: pointer;\n",
              "      display: none;\n",
              "      fill: #1967D2;\n",
              "      height: 32px;\n",
              "      padding: 0 0 0 0;\n",
              "      width: 32px;\n",
              "    }\n",
              "\n",
              "    .colab-df-convert:hover {\n",
              "      background-color: #E2EBFA;\n",
              "      box-shadow: 0px 1px 2px rgba(60, 64, 67, 0.3), 0px 1px 3px 1px rgba(60, 64, 67, 0.15);\n",
              "      fill: #174EA6;\n",
              "    }\n",
              "\n",
              "    [theme=dark] .colab-df-convert {\n",
              "      background-color: #3B4455;\n",
              "      fill: #D2E3FC;\n",
              "    }\n",
              "\n",
              "    [theme=dark] .colab-df-convert:hover {\n",
              "      background-color: #434B5C;\n",
              "      box-shadow: 0px 1px 3px 1px rgba(0, 0, 0, 0.15);\n",
              "      filter: drop-shadow(0px 1px 2px rgba(0, 0, 0, 0.3));\n",
              "      fill: #FFFFFF;\n",
              "    }\n",
              "  </style>\n",
              "\n",
              "      <script>\n",
              "        const buttonEl =\n",
              "          document.querySelector('#df-c75fcf35-6afc-4e49-947c-34f51cf56284 button.colab-df-convert');\n",
              "        buttonEl.style.display =\n",
              "          google.colab.kernel.accessAllowed ? 'block' : 'none';\n",
              "\n",
              "        async function convertToInteractive(key) {\n",
              "          const element = document.querySelector('#df-c75fcf35-6afc-4e49-947c-34f51cf56284');\n",
              "          const dataTable =\n",
              "            await google.colab.kernel.invokeFunction('convertToInteractive',\n",
              "                                                     [key], {});\n",
              "          if (!dataTable) return;\n",
              "\n",
              "          const docLinkHtml = 'Like what you see? Visit the ' +\n",
              "            '<a target=\"_blank\" href=https://colab.research.google.com/notebooks/data_table.ipynb>data table notebook</a>'\n",
              "            + ' to learn more about interactive tables.';\n",
              "          element.innerHTML = '';\n",
              "          dataTable['output_type'] = 'display_data';\n",
              "          await google.colab.output.renderOutput(dataTable, element);\n",
              "          const docLink = document.createElement('div');\n",
              "          docLink.innerHTML = docLinkHtml;\n",
              "          element.appendChild(docLink);\n",
              "        }\n",
              "      </script>\n",
              "    </div>\n",
              "  </div>\n",
              "  "
            ]
          },
          "metadata": {},
          "execution_count": 23
        }
      ],
      "source": [
        "data.head()"
      ],
      "id": "y_YuR6NDHRNA"
    },
    {
      "cell_type": "code",
      "execution_count": null,
      "metadata": {
        "id": "DCgp3g3SHRNA",
        "outputId": "35d132a1-084d-493f-d971-744143829e5d",
        "colab": {
          "base_uri": "https://localhost:8080/",
          "height": 206
        }
      },
      "outputs": [
        {
          "output_type": "execute_result",
          "data": {
            "text/plain": [
              "      TV  radio  newspaper\n",
              "1  230.1   37.8       69.2\n",
              "2   44.5   39.3       45.1\n",
              "3   17.2   45.9       69.3\n",
              "4  151.5   41.3       58.5\n",
              "5  180.8   10.8       58.4"
            ],
            "text/html": [
              "\n",
              "  <div id=\"df-486ffd14-809a-41fc-bff7-3ab50e8f8ce1\">\n",
              "    <div class=\"colab-df-container\">\n",
              "      <div>\n",
              "<style scoped>\n",
              "    .dataframe tbody tr th:only-of-type {\n",
              "        vertical-align: middle;\n",
              "    }\n",
              "\n",
              "    .dataframe tbody tr th {\n",
              "        vertical-align: top;\n",
              "    }\n",
              "\n",
              "    .dataframe thead th {\n",
              "        text-align: right;\n",
              "    }\n",
              "</style>\n",
              "<table border=\"1\" class=\"dataframe\">\n",
              "  <thead>\n",
              "    <tr style=\"text-align: right;\">\n",
              "      <th></th>\n",
              "      <th>TV</th>\n",
              "      <th>radio</th>\n",
              "      <th>newspaper</th>\n",
              "    </tr>\n",
              "  </thead>\n",
              "  <tbody>\n",
              "    <tr>\n",
              "      <th>1</th>\n",
              "      <td>230.1</td>\n",
              "      <td>37.8</td>\n",
              "      <td>69.2</td>\n",
              "    </tr>\n",
              "    <tr>\n",
              "      <th>2</th>\n",
              "      <td>44.5</td>\n",
              "      <td>39.3</td>\n",
              "      <td>45.1</td>\n",
              "    </tr>\n",
              "    <tr>\n",
              "      <th>3</th>\n",
              "      <td>17.2</td>\n",
              "      <td>45.9</td>\n",
              "      <td>69.3</td>\n",
              "    </tr>\n",
              "    <tr>\n",
              "      <th>4</th>\n",
              "      <td>151.5</td>\n",
              "      <td>41.3</td>\n",
              "      <td>58.5</td>\n",
              "    </tr>\n",
              "    <tr>\n",
              "      <th>5</th>\n",
              "      <td>180.8</td>\n",
              "      <td>10.8</td>\n",
              "      <td>58.4</td>\n",
              "    </tr>\n",
              "  </tbody>\n",
              "</table>\n",
              "</div>\n",
              "      <button class=\"colab-df-convert\" onclick=\"convertToInteractive('df-486ffd14-809a-41fc-bff7-3ab50e8f8ce1')\"\n",
              "              title=\"Convert this dataframe to an interactive table.\"\n",
              "              style=\"display:none;\">\n",
              "        \n",
              "  <svg xmlns=\"http://www.w3.org/2000/svg\" height=\"24px\"viewBox=\"0 0 24 24\"\n",
              "       width=\"24px\">\n",
              "    <path d=\"M0 0h24v24H0V0z\" fill=\"none\"/>\n",
              "    <path d=\"M18.56 5.44l.94 2.06.94-2.06 2.06-.94-2.06-.94-.94-2.06-.94 2.06-2.06.94zm-11 1L8.5 8.5l.94-2.06 2.06-.94-2.06-.94L8.5 2.5l-.94 2.06-2.06.94zm10 10l.94 2.06.94-2.06 2.06-.94-2.06-.94-.94-2.06-.94 2.06-2.06.94z\"/><path d=\"M17.41 7.96l-1.37-1.37c-.4-.4-.92-.59-1.43-.59-.52 0-1.04.2-1.43.59L10.3 9.45l-7.72 7.72c-.78.78-.78 2.05 0 2.83L4 21.41c.39.39.9.59 1.41.59.51 0 1.02-.2 1.41-.59l7.78-7.78 2.81-2.81c.8-.78.8-2.07 0-2.86zM5.41 20L4 18.59l7.72-7.72 1.47 1.35L5.41 20z\"/>\n",
              "  </svg>\n",
              "      </button>\n",
              "      \n",
              "  <style>\n",
              "    .colab-df-container {\n",
              "      display:flex;\n",
              "      flex-wrap:wrap;\n",
              "      gap: 12px;\n",
              "    }\n",
              "\n",
              "    .colab-df-convert {\n",
              "      background-color: #E8F0FE;\n",
              "      border: none;\n",
              "      border-radius: 50%;\n",
              "      cursor: pointer;\n",
              "      display: none;\n",
              "      fill: #1967D2;\n",
              "      height: 32px;\n",
              "      padding: 0 0 0 0;\n",
              "      width: 32px;\n",
              "    }\n",
              "\n",
              "    .colab-df-convert:hover {\n",
              "      background-color: #E2EBFA;\n",
              "      box-shadow: 0px 1px 2px rgba(60, 64, 67, 0.3), 0px 1px 3px 1px rgba(60, 64, 67, 0.15);\n",
              "      fill: #174EA6;\n",
              "    }\n",
              "\n",
              "    [theme=dark] .colab-df-convert {\n",
              "      background-color: #3B4455;\n",
              "      fill: #D2E3FC;\n",
              "    }\n",
              "\n",
              "    [theme=dark] .colab-df-convert:hover {\n",
              "      background-color: #434B5C;\n",
              "      box-shadow: 0px 1px 3px 1px rgba(0, 0, 0, 0.15);\n",
              "      filter: drop-shadow(0px 1px 2px rgba(0, 0, 0, 0.3));\n",
              "      fill: #FFFFFF;\n",
              "    }\n",
              "  </style>\n",
              "\n",
              "      <script>\n",
              "        const buttonEl =\n",
              "          document.querySelector('#df-486ffd14-809a-41fc-bff7-3ab50e8f8ce1 button.colab-df-convert');\n",
              "        buttonEl.style.display =\n",
              "          google.colab.kernel.accessAllowed ? 'block' : 'none';\n",
              "\n",
              "        async function convertToInteractive(key) {\n",
              "          const element = document.querySelector('#df-486ffd14-809a-41fc-bff7-3ab50e8f8ce1');\n",
              "          const dataTable =\n",
              "            await google.colab.kernel.invokeFunction('convertToInteractive',\n",
              "                                                     [key], {});\n",
              "          if (!dataTable) return;\n",
              "\n",
              "          const docLinkHtml = 'Like what you see? Visit the ' +\n",
              "            '<a target=\"_blank\" href=https://colab.research.google.com/notebooks/data_table.ipynb>data table notebook</a>'\n",
              "            + ' to learn more about interactive tables.';\n",
              "          element.innerHTML = '';\n",
              "          dataTable['output_type'] = 'display_data';\n",
              "          await google.colab.output.renderOutput(dataTable, element);\n",
              "          const docLink = document.createElement('div');\n",
              "          docLink.innerHTML = docLinkHtml;\n",
              "          element.appendChild(docLink);\n",
              "        }\n",
              "      </script>\n",
              "    </div>\n",
              "  </div>\n",
              "  "
            ]
          },
          "metadata": {},
          "execution_count": 24
        }
      ],
      "source": [
        "X = data.iloc[:,:-1]\n",
        "X.head()"
      ],
      "id": "DCgp3g3SHRNA"
    },
    {
      "cell_type": "code",
      "execution_count": null,
      "metadata": {
        "id": "WeTQhu_jHRNB",
        "outputId": "a09ded62-3eb4-4254-a64f-4a9ea4877dde",
        "colab": {
          "base_uri": "https://localhost:8080/"
        }
      },
      "outputs": [
        {
          "output_type": "execute_result",
          "data": {
            "text/plain": [
              "1      22.1\n",
              "2      10.4\n",
              "3       9.3\n",
              "4      18.5\n",
              "5      12.9\n",
              "       ... \n",
              "196     7.6\n",
              "197     9.7\n",
              "198    12.8\n",
              "199    25.5\n",
              "200    13.4\n",
              "Name: sales, Length: 200, dtype: float64"
            ]
          },
          "metadata": {},
          "execution_count": 25
        }
      ],
      "source": [
        "y = data.iloc[:,-1]\n",
        "y"
      ],
      "id": "WeTQhu_jHRNB"
    },
    {
      "cell_type": "code",
      "execution_count": null,
      "metadata": {
        "id": "B_g52bsaHRNB",
        "outputId": "34cfe98b-58c4-43e1-9e6f-22621397f14f",
        "colab": {
          "base_uri": "https://localhost:8080/"
        }
      },
      "outputs": [
        {
          "output_type": "execute_result",
          "data": {
            "text/plain": [
              "(200, 3)"
            ]
          },
          "metadata": {},
          "execution_count": 30
        }
      ],
      "source": [
        "X.shape"
      ],
      "id": "B_g52bsaHRNB"
    },
    {
      "cell_type": "code",
      "execution_count": null,
      "metadata": {
        "id": "VuLqKUkuHRNB",
        "outputId": "d6a48eda-193e-4ce5-8e3c-57e4e78ca76e",
        "colab": {
          "base_uri": "https://localhost:8080/"
        }
      },
      "outputs": [
        {
          "output_type": "stream",
          "name": "stdout",
          "text": [
            "(200,) 1\n"
          ]
        }
      ],
      "source": [
        "print(y.shape,y.ndim)"
      ],
      "id": "VuLqKUkuHRNB"
    },
    {
      "cell_type": "code",
      "execution_count": null,
      "metadata": {
        "id": "CiTXT0j-HRNC",
        "outputId": "464b8c20-bd45-41b6-96c4-72a36e2bb018",
        "colab": {
          "base_uri": "https://localhost:8080/"
        }
      },
      "outputs": [
        {
          "output_type": "stream",
          "name": "stdout",
          "text": [
            "0.8758060021645655\n"
          ]
        }
      ],
      "source": [
        "# Not a part of Linear Regression\n",
        "\n",
        "import random\n",
        "print(random.random())"
      ],
      "id": "CiTXT0j-HRNC"
    },
    {
      "cell_type": "code",
      "execution_count": null,
      "metadata": {
        "id": "fixlU1a8HRNC",
        "outputId": "adc2ab38-a077-47bc-deab-3a19edf11713",
        "colab": {
          "base_uri": "https://localhost:8080/"
        }
      },
      "outputs": [
        {
          "output_type": "stream",
          "name": "stdout",
          "text": [
            "0.2242989686860415 | 0.41287020771484073 | 0.03692486905862902 | 0.4966034986165482 | 0.8179828644296319 | 0.6578909387591091 | 0.5334837356527721 | 0.8551257407736 | 0.14968813497140154 | 0.5672354768631239 | 0.3741748177480889 | 0.6013045471136395 | 0.11291570189443623 | 0.7755127010728279 | 0.09660583318435267 | 0.16636374579324753 | 0.8074497520247557 | 0.9476939242234907 | 0.4332315025514858 | 0.41408083174830124 | "
          ]
        }
      ],
      "source": [
        "# Not a part of Linear Regression\n",
        "for i in range(20):\n",
        "    #random.seed(10)\n",
        "    print(random.random(), end=\" | \")"
      ],
      "id": "fixlU1a8HRNC"
    },
    {
      "cell_type": "code",
      "execution_count": null,
      "metadata": {
        "id": "-dpAfcofHRNC",
        "outputId": "afa7b0bf-f96b-447e-cff8-67d279136423",
        "colab": {
          "base_uri": "https://localhost:8080/"
        }
      },
      "outputs": [
        {
          "output_type": "stream",
          "name": "stdout",
          "text": [
            "0.8444218515250481\n"
          ]
        }
      ],
      "source": [
        "# Not a part of Linear Regression\n",
        "\n",
        "import random\n",
        "random.seed(0)\n",
        "print(random.random())"
      ],
      "id": "-dpAfcofHRNC"
    },
    {
      "cell_type": "code",
      "execution_count": null,
      "metadata": {
        "id": "BZ-N9GutHRND",
        "outputId": "607f59b0-eefe-4daf-ce41-190f50b8c3c3",
        "colab": {
          "base_uri": "https://localhost:8080/"
        }
      },
      "outputs": [
        {
          "output_type": "stream",
          "name": "stdout",
          "text": [
            "0.4523795535098186\n"
          ]
        }
      ],
      "source": [
        "# Not a part of Linear Regression\n",
        "\n",
        "import random\n",
        "random.seed(11)\n",
        "print(random.random())"
      ],
      "id": "BZ-N9GutHRND"
    },
    {
      "cell_type": "code",
      "execution_count": null,
      "metadata": {
        "id": "dDruzvefHRNI",
        "outputId": "fb909ff0-9932-4bba-b6f7-2d929bcccaa2",
        "colab": {
          "base_uri": "https://localhost:8080/"
        }
      },
      "outputs": [
        {
          "output_type": "stream",
          "name": "stdout",
          "text": [
            "0.7966509679599704\n"
          ]
        }
      ],
      "source": [
        "# Not a part of Linear Regression\n",
        "\n",
        "import random\n",
        "random.seed(1001)\n",
        "print(random.random())"
      ],
      "id": "dDruzvefHRNI"
    },
    {
      "cell_type": "code",
      "execution_count": null,
      "metadata": {
        "id": "R4JqCkw8HRNI",
        "outputId": "36ff0118-6a72-44a1-e943-f6fd2c852228",
        "colab": {
          "base_uri": "https://localhost:8080/"
        }
      },
      "outputs": [
        {
          "output_type": "stream",
          "name": "stdout",
          "text": [
            "0.6229016948897019\n"
          ]
        }
      ],
      "source": [
        "# Not a part of Linear Regression\n",
        "\n",
        "import random\n",
        "random.seed(5)\n",
        "print(random.random())"
      ],
      "id": "R4JqCkw8HRNI"
    },
    {
      "cell_type": "code",
      "execution_count": null,
      "metadata": {
        "id": "9lQGw5yjHRNI",
        "outputId": "d83d90a6-3026-4607-e873-9844df51ded0"
      },
      "outputs": [
        {
          "data": {
            "text/plain": [
              "(200, 3)"
            ]
          },
          "execution_count": 195,
          "metadata": {},
          "output_type": "execute_result"
        }
      ],
      "source": [
        "X.shape"
      ],
      "id": "9lQGw5yjHRNI"
    },
    {
      "cell_type": "code",
      "execution_count": null,
      "metadata": {
        "id": "99vp9-ZRHRNJ",
        "outputId": "26d6a8f7-75db-4905-e233-bae0cd70c201"
      },
      "outputs": [
        {
          "data": {
            "text/plain": [
              "(200,)"
            ]
          },
          "execution_count": 196,
          "metadata": {},
          "output_type": "execute_result"
        }
      ],
      "source": [
        "y.shape"
      ],
      "id": "99vp9-ZRHRNJ"
    },
    {
      "cell_type": "markdown",
      "metadata": {
        "id": "8qHpbNJcHRNJ"
      },
      "source": [
        "## Splitting X  and y into training and testing data"
      ],
      "id": "8qHpbNJcHRNJ"
    },
    {
      "cell_type": "code",
      "execution_count": null,
      "metadata": {
        "id": "LbWGcP7YHRNK"
      },
      "outputs": [],
      "source": [
        "# https://scikit-learn.org/stable/modules/generated/sklearn.model_selection.train_test_split.html\n",
        "from sklearn.model_selection import train_test_split\n",
        "X_train, X_test, y_train, y_test = train_test_split(X, y, test_size= 0.2, random_state=0)\n",
        "# It is good to have train size atleast twice that of test size"
      ],
      "id": "LbWGcP7YHRNK"
    },
    {
      "cell_type": "code",
      "execution_count": null,
      "metadata": {
        "id": "2CNRry9gHRNK",
        "outputId": "3b2a0a49-ce2a-4480-a622-a2efb58c12ab",
        "colab": {
          "base_uri": "https://localhost:8080/"
        }
      },
      "outputs": [
        {
          "output_type": "execute_result",
          "data": {
            "text/plain": [
              "(160, 3)"
            ]
          },
          "metadata": {},
          "execution_count": 44
        }
      ],
      "source": [
        "X_train.shape"
      ],
      "id": "2CNRry9gHRNK"
    },
    {
      "cell_type": "code",
      "execution_count": null,
      "metadata": {
        "id": "17uGmltkHRNK",
        "outputId": "32ad2e71-a10f-4f95-c0cb-a67afab23578",
        "colab": {
          "base_uri": "https://localhost:8080/"
        }
      },
      "outputs": [
        {
          "output_type": "execute_result",
          "data": {
            "text/plain": [
              "(40, 3)"
            ]
          },
          "metadata": {},
          "execution_count": 45
        }
      ],
      "source": [
        "X_test.shape"
      ],
      "id": "17uGmltkHRNK"
    },
    {
      "cell_type": "code",
      "execution_count": null,
      "metadata": {
        "id": "qUj3G0G-HRNL",
        "outputId": "a47e6c37-7841-4aac-bd47-d8cfefc32326",
        "colab": {
          "base_uri": "https://localhost:8080/"
        }
      },
      "outputs": [
        {
          "output_type": "stream",
          "name": "stdout",
          "text": [
            "(160,) 1\n"
          ]
        }
      ],
      "source": [
        "print(y_train.shape,y_train.ndim)"
      ],
      "id": "qUj3G0G-HRNL"
    },
    {
      "cell_type": "code",
      "execution_count": null,
      "metadata": {
        "id": "3JQ1joVIHRNL",
        "outputId": "e5ddadd4-fbbf-414c-c1a9-c192da4561f0"
      },
      "outputs": [
        {
          "data": {
            "text/plain": [
              "(40,)"
            ]
          },
          "execution_count": 201,
          "metadata": {},
          "output_type": "execute_result"
        }
      ],
      "source": [
        "y_test.shape"
      ],
      "id": "3JQ1joVIHRNL"
    },
    {
      "cell_type": "code",
      "execution_count": null,
      "metadata": {
        "id": "l2mSOoPxHRNL",
        "outputId": "9bc4af9d-a56d-42cb-ae51-806acdbf87df",
        "colab": {
          "base_uri": "https://localhost:8080/",
          "height": 206
        }
      },
      "outputs": [
        {
          "output_type": "execute_result",
          "data": {
            "text/plain": [
              "        TV  radio  newspaper\n",
              "135   36.9   38.6       65.6\n",
              "67    31.5   24.6        2.2\n",
              "27   142.9   29.3       12.6\n",
              "114  209.6   20.6       10.7\n",
              "169  215.4   23.6       57.6"
            ],
            "text/html": [
              "\n",
              "  <div id=\"df-8c2ac643-0444-4fe5-ae02-ee5acb9a9b6c\">\n",
              "    <div class=\"colab-df-container\">\n",
              "      <div>\n",
              "<style scoped>\n",
              "    .dataframe tbody tr th:only-of-type {\n",
              "        vertical-align: middle;\n",
              "    }\n",
              "\n",
              "    .dataframe tbody tr th {\n",
              "        vertical-align: top;\n",
              "    }\n",
              "\n",
              "    .dataframe thead th {\n",
              "        text-align: right;\n",
              "    }\n",
              "</style>\n",
              "<table border=\"1\" class=\"dataframe\">\n",
              "  <thead>\n",
              "    <tr style=\"text-align: right;\">\n",
              "      <th></th>\n",
              "      <th>TV</th>\n",
              "      <th>radio</th>\n",
              "      <th>newspaper</th>\n",
              "    </tr>\n",
              "  </thead>\n",
              "  <tbody>\n",
              "    <tr>\n",
              "      <th>135</th>\n",
              "      <td>36.9</td>\n",
              "      <td>38.6</td>\n",
              "      <td>65.6</td>\n",
              "    </tr>\n",
              "    <tr>\n",
              "      <th>67</th>\n",
              "      <td>31.5</td>\n",
              "      <td>24.6</td>\n",
              "      <td>2.2</td>\n",
              "    </tr>\n",
              "    <tr>\n",
              "      <th>27</th>\n",
              "      <td>142.9</td>\n",
              "      <td>29.3</td>\n",
              "      <td>12.6</td>\n",
              "    </tr>\n",
              "    <tr>\n",
              "      <th>114</th>\n",
              "      <td>209.6</td>\n",
              "      <td>20.6</td>\n",
              "      <td>10.7</td>\n",
              "    </tr>\n",
              "    <tr>\n",
              "      <th>169</th>\n",
              "      <td>215.4</td>\n",
              "      <td>23.6</td>\n",
              "      <td>57.6</td>\n",
              "    </tr>\n",
              "  </tbody>\n",
              "</table>\n",
              "</div>\n",
              "      <button class=\"colab-df-convert\" onclick=\"convertToInteractive('df-8c2ac643-0444-4fe5-ae02-ee5acb9a9b6c')\"\n",
              "              title=\"Convert this dataframe to an interactive table.\"\n",
              "              style=\"display:none;\">\n",
              "        \n",
              "  <svg xmlns=\"http://www.w3.org/2000/svg\" height=\"24px\"viewBox=\"0 0 24 24\"\n",
              "       width=\"24px\">\n",
              "    <path d=\"M0 0h24v24H0V0z\" fill=\"none\"/>\n",
              "    <path d=\"M18.56 5.44l.94 2.06.94-2.06 2.06-.94-2.06-.94-.94-2.06-.94 2.06-2.06.94zm-11 1L8.5 8.5l.94-2.06 2.06-.94-2.06-.94L8.5 2.5l-.94 2.06-2.06.94zm10 10l.94 2.06.94-2.06 2.06-.94-2.06-.94-.94-2.06-.94 2.06-2.06.94z\"/><path d=\"M17.41 7.96l-1.37-1.37c-.4-.4-.92-.59-1.43-.59-.52 0-1.04.2-1.43.59L10.3 9.45l-7.72 7.72c-.78.78-.78 2.05 0 2.83L4 21.41c.39.39.9.59 1.41.59.51 0 1.02-.2 1.41-.59l7.78-7.78 2.81-2.81c.8-.78.8-2.07 0-2.86zM5.41 20L4 18.59l7.72-7.72 1.47 1.35L5.41 20z\"/>\n",
              "  </svg>\n",
              "      </button>\n",
              "      \n",
              "  <style>\n",
              "    .colab-df-container {\n",
              "      display:flex;\n",
              "      flex-wrap:wrap;\n",
              "      gap: 12px;\n",
              "    }\n",
              "\n",
              "    .colab-df-convert {\n",
              "      background-color: #E8F0FE;\n",
              "      border: none;\n",
              "      border-radius: 50%;\n",
              "      cursor: pointer;\n",
              "      display: none;\n",
              "      fill: #1967D2;\n",
              "      height: 32px;\n",
              "      padding: 0 0 0 0;\n",
              "      width: 32px;\n",
              "    }\n",
              "\n",
              "    .colab-df-convert:hover {\n",
              "      background-color: #E2EBFA;\n",
              "      box-shadow: 0px 1px 2px rgba(60, 64, 67, 0.3), 0px 1px 3px 1px rgba(60, 64, 67, 0.15);\n",
              "      fill: #174EA6;\n",
              "    }\n",
              "\n",
              "    [theme=dark] .colab-df-convert {\n",
              "      background-color: #3B4455;\n",
              "      fill: #D2E3FC;\n",
              "    }\n",
              "\n",
              "    [theme=dark] .colab-df-convert:hover {\n",
              "      background-color: #434B5C;\n",
              "      box-shadow: 0px 1px 3px 1px rgba(0, 0, 0, 0.15);\n",
              "      filter: drop-shadow(0px 1px 2px rgba(0, 0, 0, 0.3));\n",
              "      fill: #FFFFFF;\n",
              "    }\n",
              "  </style>\n",
              "\n",
              "      <script>\n",
              "        const buttonEl =\n",
              "          document.querySelector('#df-8c2ac643-0444-4fe5-ae02-ee5acb9a9b6c button.colab-df-convert');\n",
              "        buttonEl.style.display =\n",
              "          google.colab.kernel.accessAllowed ? 'block' : 'none';\n",
              "\n",
              "        async function convertToInteractive(key) {\n",
              "          const element = document.querySelector('#df-8c2ac643-0444-4fe5-ae02-ee5acb9a9b6c');\n",
              "          const dataTable =\n",
              "            await google.colab.kernel.invokeFunction('convertToInteractive',\n",
              "                                                     [key], {});\n",
              "          if (!dataTable) return;\n",
              "\n",
              "          const docLinkHtml = 'Like what you see? Visit the ' +\n",
              "            '<a target=\"_blank\" href=https://colab.research.google.com/notebooks/data_table.ipynb>data table notebook</a>'\n",
              "            + ' to learn more about interactive tables.';\n",
              "          element.innerHTML = '';\n",
              "          dataTable['output_type'] = 'display_data';\n",
              "          await google.colab.output.renderOutput(dataTable, element);\n",
              "          const docLink = document.createElement('div');\n",
              "          docLink.innerHTML = docLinkHtml;\n",
              "          element.appendChild(docLink);\n",
              "        }\n",
              "      </script>\n",
              "    </div>\n",
              "  </div>\n",
              "  "
            ]
          },
          "metadata": {},
          "execution_count": 47
        }
      ],
      "source": [
        "X_train.head()"
      ],
      "id": "l2mSOoPxHRNL"
    },
    {
      "cell_type": "code",
      "execution_count": null,
      "metadata": {
        "id": "Gbca8kcMHRNM",
        "outputId": "db432864-fc7a-468a-fe14-56fde3f3c083"
      },
      "outputs": [
        {
          "data": {
            "text/html": [
              "<div>\n",
              "<style scoped>\n",
              "    .dataframe tbody tr th:only-of-type {\n",
              "        vertical-align: middle;\n",
              "    }\n",
              "\n",
              "    .dataframe tbody tr th {\n",
              "        vertical-align: top;\n",
              "    }\n",
              "\n",
              "    .dataframe thead th {\n",
              "        text-align: right;\n",
              "    }\n",
              "</style>\n",
              "<table border=\"1\" class=\"dataframe\">\n",
              "  <thead>\n",
              "    <tr style=\"text-align: right;\">\n",
              "      <th></th>\n",
              "      <th>TV</th>\n",
              "      <th>radio</th>\n",
              "      <th>newspaper</th>\n",
              "    </tr>\n",
              "  </thead>\n",
              "  <tbody>\n",
              "    <tr>\n",
              "      <th>19</th>\n",
              "      <td>69.2</td>\n",
              "      <td>20.5</td>\n",
              "      <td>18.3</td>\n",
              "    </tr>\n",
              "    <tr>\n",
              "      <th>171</th>\n",
              "      <td>50.0</td>\n",
              "      <td>11.6</td>\n",
              "      <td>18.4</td>\n",
              "    </tr>\n",
              "    <tr>\n",
              "      <th>108</th>\n",
              "      <td>90.4</td>\n",
              "      <td>0.3</td>\n",
              "      <td>23.2</td>\n",
              "    </tr>\n",
              "    <tr>\n",
              "      <th>99</th>\n",
              "      <td>289.7</td>\n",
              "      <td>42.3</td>\n",
              "      <td>51.2</td>\n",
              "    </tr>\n",
              "    <tr>\n",
              "      <th>178</th>\n",
              "      <td>170.2</td>\n",
              "      <td>7.8</td>\n",
              "      <td>35.2</td>\n",
              "    </tr>\n",
              "  </tbody>\n",
              "</table>\n",
              "</div>"
            ],
            "text/plain": [
              "        TV  radio  newspaper\n",
              "19    69.2   20.5       18.3\n",
              "171   50.0   11.6       18.4\n",
              "108   90.4    0.3       23.2\n",
              "99   289.7   42.3       51.2\n",
              "178  170.2    7.8       35.2"
            ]
          },
          "execution_count": 203,
          "metadata": {},
          "output_type": "execute_result"
        }
      ],
      "source": [
        "X_test.head()"
      ],
      "id": "Gbca8kcMHRNM"
    },
    {
      "cell_type": "code",
      "execution_count": null,
      "metadata": {
        "scrolled": true,
        "id": "xWK3BFaPHRNM",
        "outputId": "23bfc535-273e-4dff-8db2-b3e3b714956e"
      },
      "outputs": [
        {
          "data": {
            "text/html": [
              "<div>\n",
              "<style scoped>\n",
              "    .dataframe tbody tr th:only-of-type {\n",
              "        vertical-align: middle;\n",
              "    }\n",
              "\n",
              "    .dataframe tbody tr th {\n",
              "        vertical-align: top;\n",
              "    }\n",
              "\n",
              "    .dataframe thead th {\n",
              "        text-align: right;\n",
              "    }\n",
              "</style>\n",
              "<table border=\"1\" class=\"dataframe\">\n",
              "  <thead>\n",
              "    <tr style=\"text-align: right;\">\n",
              "      <th></th>\n",
              "      <th>TV</th>\n",
              "      <th>radio</th>\n",
              "      <th>newspaper</th>\n",
              "    </tr>\n",
              "  </thead>\n",
              "  <tbody>\n",
              "    <tr>\n",
              "      <th>68</th>\n",
              "      <td>139.3</td>\n",
              "      <td>14.5</td>\n",
              "      <td>10.2</td>\n",
              "    </tr>\n",
              "    <tr>\n",
              "      <th>193</th>\n",
              "      <td>17.2</td>\n",
              "      <td>4.1</td>\n",
              "      <td>31.6</td>\n",
              "    </tr>\n",
              "    <tr>\n",
              "      <th>118</th>\n",
              "      <td>76.4</td>\n",
              "      <td>0.8</td>\n",
              "      <td>14.8</td>\n",
              "    </tr>\n",
              "    <tr>\n",
              "      <th>48</th>\n",
              "      <td>239.9</td>\n",
              "      <td>41.5</td>\n",
              "      <td>18.5</td>\n",
              "    </tr>\n",
              "    <tr>\n",
              "      <th>173</th>\n",
              "      <td>19.6</td>\n",
              "      <td>20.1</td>\n",
              "      <td>17.0</td>\n",
              "    </tr>\n",
              "  </tbody>\n",
              "</table>\n",
              "</div>"
            ],
            "text/plain": [
              "        TV  radio  newspaper\n",
              "68   139.3   14.5       10.2\n",
              "193   17.2    4.1       31.6\n",
              "118   76.4    0.8       14.8\n",
              "48   239.9   41.5       18.5\n",
              "173   19.6   20.1       17.0"
            ]
          },
          "execution_count": 204,
          "metadata": {},
          "output_type": "execute_result"
        }
      ],
      "source": [
        "X_train.tail()"
      ],
      "id": "xWK3BFaPHRNM"
    },
    {
      "cell_type": "code",
      "execution_count": null,
      "metadata": {
        "id": "qnDfYaqpHRNM",
        "outputId": "3aa7d5d5-521d-4bfd-badc-f534d4e458e3"
      },
      "outputs": [
        {
          "data": {
            "text/plain": [
              "135    10.8\n",
              "67      9.5\n",
              "27     15.0\n",
              "114    15.9\n",
              "169    17.1\n",
              "       ... \n",
              "68     13.4\n",
              "193     5.9\n",
              "118     9.4\n",
              "48     23.2\n",
              "173     7.6\n",
              "Name: sales, Length: 160, dtype: float64"
            ]
          },
          "execution_count": 205,
          "metadata": {},
          "output_type": "execute_result"
        }
      ],
      "source": [
        "y_train"
      ],
      "id": "qnDfYaqpHRNM"
    },
    {
      "cell_type": "code",
      "execution_count": null,
      "metadata": {
        "id": "Id8a8ptWHRNN",
        "outputId": "0f1585d4-2b03-44bb-ac03-c04cdd3b53dc"
      },
      "outputs": [
        {
          "data": {
            "text/html": [
              "<div>\n",
              "<style scoped>\n",
              "    .dataframe tbody tr th:only-of-type {\n",
              "        vertical-align: middle;\n",
              "    }\n",
              "\n",
              "    .dataframe tbody tr th {\n",
              "        vertical-align: top;\n",
              "    }\n",
              "\n",
              "    .dataframe thead th {\n",
              "        text-align: right;\n",
              "    }\n",
              "</style>\n",
              "<table border=\"1\" class=\"dataframe\">\n",
              "  <thead>\n",
              "    <tr style=\"text-align: right;\">\n",
              "      <th></th>\n",
              "      <th>TV</th>\n",
              "      <th>radio</th>\n",
              "      <th>newspaper</th>\n",
              "    </tr>\n",
              "  </thead>\n",
              "  <tbody>\n",
              "    <tr>\n",
              "      <th>count</th>\n",
              "      <td>160.000000</td>\n",
              "      <td>160.000000</td>\n",
              "      <td>160.000000</td>\n",
              "    </tr>\n",
              "    <tr>\n",
              "      <th>mean</th>\n",
              "      <td>150.518125</td>\n",
              "      <td>23.388125</td>\n",
              "      <td>30.125625</td>\n",
              "    </tr>\n",
              "    <tr>\n",
              "      <th>std</th>\n",
              "      <td>84.957371</td>\n",
              "      <td>14.736240</td>\n",
              "      <td>21.444814</td>\n",
              "    </tr>\n",
              "    <tr>\n",
              "      <th>min</th>\n",
              "      <td>4.100000</td>\n",
              "      <td>0.000000</td>\n",
              "      <td>0.900000</td>\n",
              "    </tr>\n",
              "    <tr>\n",
              "      <th>25%</th>\n",
              "      <td>76.375000</td>\n",
              "      <td>9.525000</td>\n",
              "      <td>11.675000</td>\n",
              "    </tr>\n",
              "    <tr>\n",
              "      <th>50%</th>\n",
              "      <td>157.400000</td>\n",
              "      <td>24.300000</td>\n",
              "      <td>25.900000</td>\n",
              "    </tr>\n",
              "    <tr>\n",
              "      <th>75%</th>\n",
              "      <td>220.350000</td>\n",
              "      <td>36.350000</td>\n",
              "      <td>45.100000</td>\n",
              "    </tr>\n",
              "    <tr>\n",
              "      <th>max</th>\n",
              "      <td>296.400000</td>\n",
              "      <td>49.600000</td>\n",
              "      <td>100.900000</td>\n",
              "    </tr>\n",
              "  </tbody>\n",
              "</table>\n",
              "</div>"
            ],
            "text/plain": [
              "               TV       radio   newspaper\n",
              "count  160.000000  160.000000  160.000000\n",
              "mean   150.518125   23.388125   30.125625\n",
              "std     84.957371   14.736240   21.444814\n",
              "min      4.100000    0.000000    0.900000\n",
              "25%     76.375000    9.525000   11.675000\n",
              "50%    157.400000   24.300000   25.900000\n",
              "75%    220.350000   36.350000   45.100000\n",
              "max    296.400000   49.600000  100.900000"
            ]
          },
          "execution_count": 206,
          "metadata": {},
          "output_type": "execute_result"
        }
      ],
      "source": [
        "X_train.describe()"
      ],
      "id": "Id8a8ptWHRNN"
    },
    {
      "cell_type": "markdown",
      "metadata": {
        "id": "wb21wy4cHRNN"
      },
      "source": [
        "# Standardization/Scaling\n",
        "\n",
        "There are many ways of scaling the data, however, the following 3 are very popular in the industry stated below in the order of their importance:\n",
        "\n",
        ">1. Standard Scaling\n",
        "\n",
        ">2. Min-Max Scaling\n",
        "\n",
        ">3. Robust Scaling\n",
        "\n",
        "\n",
        "Below cells are not a part of Linear Regression. They help us understand the concept the Scaling and it is very important for every ML algorithm to be supplied with scaled data."
      ],
      "id": "wb21wy4cHRNN"
    },
    {
      "cell_type": "code",
      "execution_count": null,
      "metadata": {
        "id": "bLRqVHPpHRNN"
      },
      "outputs": [],
      "source": [
        "from sklearn.preprocessing import StandardScaler, MinMaxScaler, RobustScaler"
      ],
      "id": "bLRqVHPpHRNN"
    },
    {
      "cell_type": "markdown",
      "metadata": {
        "id": "DJjwW35IHRNO"
      },
      "source": [
        "# Standard Scaling\n",
        "\n",
        "![Standard Scaling](https://miro.medium.com/max/866/1*qXXqcZXhSTgw9tVhx7zNNw.gif \"Standard Scaling\")"
      ],
      "id": "DJjwW35IHRNO"
    },
    {
      "cell_type": "markdown",
      "metadata": {
        "id": "lyqVsj3MHRNP"
      },
      "source": [
        "Because, Standard Scaling is the z-score, it gets the column converted to Normal Distribution."
      ],
      "id": "lyqVsj3MHRNP"
    },
    {
      "cell_type": "markdown",
      "metadata": {
        "id": "oEVvrhB4HRNR"
      },
      "source": [
        "# Min-Max Scaling\n",
        "\n",
        "![Min-Max Scaling](https://media.geeksforgeeks.org/wp-content/uploads/min-max-normalisation.jpg \"Min-Max Scaling\")"
      ],
      "id": "oEVvrhB4HRNR"
    },
    {
      "cell_type": "markdown",
      "metadata": {
        "id": "BbYbYLnIHRNT"
      },
      "source": [
        "# Robust Scaling\n",
        "\n",
        "![Robust Scaling](https://media.geeksforgeeks.org/wp-content/uploads/20200624151526/for4.png \"Robust Scaling\")"
      ],
      "id": "BbYbYLnIHRNT"
    },
    {
      "cell_type": "markdown",
      "metadata": {
        "id": "lyo_zQnaHRNU"
      },
      "source": [
        "![Scaling](https://miro.medium.com/max/2456/1*A9d4SEX0t_bAAPzZeVqwAQ.png \"Scaling\")"
      ],
      "id": "lyo_zQnaHRNU"
    },
    {
      "cell_type": "markdown",
      "metadata": {
        "id": "tzgTitNhHRNU"
      },
      "source": [
        "# Linear Regression Continues..."
      ],
      "id": "tzgTitNhHRNU"
    },
    {
      "cell_type": "code",
      "execution_count": null,
      "metadata": {
        "id": "135S2OqtHRNV",
        "outputId": "68ab0ef7-dd02-4026-b93b-41dcf5902f8b",
        "colab": {
          "base_uri": "https://localhost:8080/"
        }
      },
      "outputs": [
        {
          "output_type": "execute_result",
          "data": {
            "text/plain": [
              "Index(['TV', 'radio', 'newspaper'], dtype='object')"
            ]
          },
          "metadata": {},
          "execution_count": 48
        }
      ],
      "source": [
        "X_train.columns"
      ],
      "id": "135S2OqtHRNV"
    },
    {
      "cell_type": "code",
      "execution_count": null,
      "metadata": {
        "id": "se2lHmZSHRNV",
        "outputId": "22225f5d-7193-4e3e-b00d-723ccac44656",
        "colab": {
          "base_uri": "https://localhost:8080/",
          "height": 206
        }
      },
      "outputs": [
        {
          "output_type": "execute_result",
          "data": {
            "text/plain": [
              "           TV     radio  newspaper\n",
              "135 -1.341553  1.035518   1.659411\n",
              "67  -1.405314  0.082496  -1.306297\n",
              "27  -0.089952  0.402439  -0.819809\n",
              "114  0.697613 -0.189796  -0.908687\n",
              "169  0.766097  0.014423   1.285189"
            ],
            "text/html": [
              "\n",
              "  <div id=\"df-6294b8b1-817a-4e8f-870a-74b3301d45dd\">\n",
              "    <div class=\"colab-df-container\">\n",
              "      <div>\n",
              "<style scoped>\n",
              "    .dataframe tbody tr th:only-of-type {\n",
              "        vertical-align: middle;\n",
              "    }\n",
              "\n",
              "    .dataframe tbody tr th {\n",
              "        vertical-align: top;\n",
              "    }\n",
              "\n",
              "    .dataframe thead th {\n",
              "        text-align: right;\n",
              "    }\n",
              "</style>\n",
              "<table border=\"1\" class=\"dataframe\">\n",
              "  <thead>\n",
              "    <tr style=\"text-align: right;\">\n",
              "      <th></th>\n",
              "      <th>TV</th>\n",
              "      <th>radio</th>\n",
              "      <th>newspaper</th>\n",
              "    </tr>\n",
              "  </thead>\n",
              "  <tbody>\n",
              "    <tr>\n",
              "      <th>135</th>\n",
              "      <td>-1.341553</td>\n",
              "      <td>1.035518</td>\n",
              "      <td>1.659411</td>\n",
              "    </tr>\n",
              "    <tr>\n",
              "      <th>67</th>\n",
              "      <td>-1.405314</td>\n",
              "      <td>0.082496</td>\n",
              "      <td>-1.306297</td>\n",
              "    </tr>\n",
              "    <tr>\n",
              "      <th>27</th>\n",
              "      <td>-0.089952</td>\n",
              "      <td>0.402439</td>\n",
              "      <td>-0.819809</td>\n",
              "    </tr>\n",
              "    <tr>\n",
              "      <th>114</th>\n",
              "      <td>0.697613</td>\n",
              "      <td>-0.189796</td>\n",
              "      <td>-0.908687</td>\n",
              "    </tr>\n",
              "    <tr>\n",
              "      <th>169</th>\n",
              "      <td>0.766097</td>\n",
              "      <td>0.014423</td>\n",
              "      <td>1.285189</td>\n",
              "    </tr>\n",
              "  </tbody>\n",
              "</table>\n",
              "</div>\n",
              "      <button class=\"colab-df-convert\" onclick=\"convertToInteractive('df-6294b8b1-817a-4e8f-870a-74b3301d45dd')\"\n",
              "              title=\"Convert this dataframe to an interactive table.\"\n",
              "              style=\"display:none;\">\n",
              "        \n",
              "  <svg xmlns=\"http://www.w3.org/2000/svg\" height=\"24px\"viewBox=\"0 0 24 24\"\n",
              "       width=\"24px\">\n",
              "    <path d=\"M0 0h24v24H0V0z\" fill=\"none\"/>\n",
              "    <path d=\"M18.56 5.44l.94 2.06.94-2.06 2.06-.94-2.06-.94-.94-2.06-.94 2.06-2.06.94zm-11 1L8.5 8.5l.94-2.06 2.06-.94-2.06-.94L8.5 2.5l-.94 2.06-2.06.94zm10 10l.94 2.06.94-2.06 2.06-.94-2.06-.94-.94-2.06-.94 2.06-2.06.94z\"/><path d=\"M17.41 7.96l-1.37-1.37c-.4-.4-.92-.59-1.43-.59-.52 0-1.04.2-1.43.59L10.3 9.45l-7.72 7.72c-.78.78-.78 2.05 0 2.83L4 21.41c.39.39.9.59 1.41.59.51 0 1.02-.2 1.41-.59l7.78-7.78 2.81-2.81c.8-.78.8-2.07 0-2.86zM5.41 20L4 18.59l7.72-7.72 1.47 1.35L5.41 20z\"/>\n",
              "  </svg>\n",
              "      </button>\n",
              "      \n",
              "  <style>\n",
              "    .colab-df-container {\n",
              "      display:flex;\n",
              "      flex-wrap:wrap;\n",
              "      gap: 12px;\n",
              "    }\n",
              "\n",
              "    .colab-df-convert {\n",
              "      background-color: #E8F0FE;\n",
              "      border: none;\n",
              "      border-radius: 50%;\n",
              "      cursor: pointer;\n",
              "      display: none;\n",
              "      fill: #1967D2;\n",
              "      height: 32px;\n",
              "      padding: 0 0 0 0;\n",
              "      width: 32px;\n",
              "    }\n",
              "\n",
              "    .colab-df-convert:hover {\n",
              "      background-color: #E2EBFA;\n",
              "      box-shadow: 0px 1px 2px rgba(60, 64, 67, 0.3), 0px 1px 3px 1px rgba(60, 64, 67, 0.15);\n",
              "      fill: #174EA6;\n",
              "    }\n",
              "\n",
              "    [theme=dark] .colab-df-convert {\n",
              "      background-color: #3B4455;\n",
              "      fill: #D2E3FC;\n",
              "    }\n",
              "\n",
              "    [theme=dark] .colab-df-convert:hover {\n",
              "      background-color: #434B5C;\n",
              "      box-shadow: 0px 1px 3px 1px rgba(0, 0, 0, 0.15);\n",
              "      filter: drop-shadow(0px 1px 2px rgba(0, 0, 0, 0.3));\n",
              "      fill: #FFFFFF;\n",
              "    }\n",
              "  </style>\n",
              "\n",
              "      <script>\n",
              "        const buttonEl =\n",
              "          document.querySelector('#df-6294b8b1-817a-4e8f-870a-74b3301d45dd button.colab-df-convert');\n",
              "        buttonEl.style.display =\n",
              "          google.colab.kernel.accessAllowed ? 'block' : 'none';\n",
              "\n",
              "        async function convertToInteractive(key) {\n",
              "          const element = document.querySelector('#df-6294b8b1-817a-4e8f-870a-74b3301d45dd');\n",
              "          const dataTable =\n",
              "            await google.colab.kernel.invokeFunction('convertToInteractive',\n",
              "                                                     [key], {});\n",
              "          if (!dataTable) return;\n",
              "\n",
              "          const docLinkHtml = 'Like what you see? Visit the ' +\n",
              "            '<a target=\"_blank\" href=https://colab.research.google.com/notebooks/data_table.ipynb>data table notebook</a>'\n",
              "            + ' to learn more about interactive tables.';\n",
              "          element.innerHTML = '';\n",
              "          dataTable['output_type'] = 'display_data';\n",
              "          await google.colab.output.renderOutput(dataTable, element);\n",
              "          const docLink = document.createElement('div');\n",
              "          docLink.innerHTML = docLinkHtml;\n",
              "          element.appendChild(docLink);\n",
              "        }\n",
              "      </script>\n",
              "    </div>\n",
              "  </div>\n",
              "  "
            ]
          },
          "metadata": {},
          "execution_count": 28
        }
      ],
      "source": [
        "from sklearn.preprocessing import StandardScaler\n",
        "scaler = StandardScaler()\n",
        "X_train[['TV', 'radio', 'newspaper']] = scaler.fit_transform(X_train[['TV', 'radio', 'newspaper']])\n",
        "X_train.head()"
      ],
      "id": "se2lHmZSHRNV"
    },
    {
      "cell_type": "code",
      "execution_count": null,
      "metadata": {
        "id": "PAgh5k-QHRNV",
        "outputId": "f84c90ec-4a20-4740-b97e-a9331fdb0681"
      },
      "outputs": [
        {
          "data": {
            "text/html": [
              "<div>\n",
              "<style scoped>\n",
              "    .dataframe tbody tr th:only-of-type {\n",
              "        vertical-align: middle;\n",
              "    }\n",
              "\n",
              "    .dataframe tbody tr th {\n",
              "        vertical-align: top;\n",
              "    }\n",
              "\n",
              "    .dataframe thead th {\n",
              "        text-align: right;\n",
              "    }\n",
              "</style>\n",
              "<table border=\"1\" class=\"dataframe\">\n",
              "  <thead>\n",
              "    <tr style=\"text-align: right;\">\n",
              "      <th></th>\n",
              "      <th>TV</th>\n",
              "      <th>radio</th>\n",
              "      <th>newspaper</th>\n",
              "    </tr>\n",
              "  </thead>\n",
              "  <tbody>\n",
              "    <tr>\n",
              "      <th>count</th>\n",
              "      <td>1.600000e+02</td>\n",
              "      <td>1.600000e+02</td>\n",
              "      <td>1.600000e+02</td>\n",
              "    </tr>\n",
              "    <tr>\n",
              "      <th>mean</th>\n",
              "      <td>2.498002e-17</td>\n",
              "      <td>-1.670539e-16</td>\n",
              "      <td>-1.047773e-16</td>\n",
              "    </tr>\n",
              "    <tr>\n",
              "      <th>std</th>\n",
              "      <td>1.003140e+00</td>\n",
              "      <td>1.003140e+00</td>\n",
              "      <td>1.003140e+00</td>\n",
              "    </tr>\n",
              "    <tr>\n",
              "      <th>min</th>\n",
              "      <td>-1.728842e+00</td>\n",
              "      <td>-1.592099e+00</td>\n",
              "      <td>-1.367108e+00</td>\n",
              "    </tr>\n",
              "    <tr>\n",
              "      <th>25%</th>\n",
              "      <td>-8.754498e-01</td>\n",
              "      <td>-9.437042e-01</td>\n",
              "      <td>-8.630784e-01</td>\n",
              "    </tr>\n",
              "    <tr>\n",
              "      <th>50%</th>\n",
              "      <td>8.125819e-02</td>\n",
              "      <td>6.207404e-02</td>\n",
              "      <td>-1.976652e-01</td>\n",
              "    </tr>\n",
              "    <tr>\n",
              "      <th>75%</th>\n",
              "      <td>8.245444e-01</td>\n",
              "      <td>8.823534e-01</td>\n",
              "      <td>7.004673e-01</td>\n",
              "    </tr>\n",
              "    <tr>\n",
              "      <th>max</th>\n",
              "      <td>1.722510e+00</td>\n",
              "      <td>1.784320e+00</td>\n",
              "      <td>3.310665e+00</td>\n",
              "    </tr>\n",
              "  </tbody>\n",
              "</table>\n",
              "</div>"
            ],
            "text/plain": [
              "                 TV         radio     newspaper\n",
              "count  1.600000e+02  1.600000e+02  1.600000e+02\n",
              "mean   2.498002e-17 -1.670539e-16 -1.047773e-16\n",
              "std    1.003140e+00  1.003140e+00  1.003140e+00\n",
              "min   -1.728842e+00 -1.592099e+00 -1.367108e+00\n",
              "25%   -8.754498e-01 -9.437042e-01 -8.630784e-01\n",
              "50%    8.125819e-02  6.207404e-02 -1.976652e-01\n",
              "75%    8.245444e-01  8.823534e-01  7.004673e-01\n",
              "max    1.722510e+00  1.784320e+00  3.310665e+00"
            ]
          },
          "execution_count": 232,
          "metadata": {},
          "output_type": "execute_result"
        }
      ],
      "source": [
        "X_train.describe()"
      ],
      "id": "PAgh5k-QHRNV"
    },
    {
      "cell_type": "code",
      "execution_count": null,
      "metadata": {
        "id": "rQgGSBcPHRNV",
        "outputId": "a9b9edab-d73c-4fa4-d853-1606808510ef",
        "colab": {
          "base_uri": "https://localhost:8080/"
        }
      },
      "outputs": [
        {
          "output_type": "execute_result",
          "data": {
            "text/plain": [
              "Index(['TV', 'radio', 'newspaper'], dtype='object')"
            ]
          },
          "metadata": {},
          "execution_count": 46
        }
      ],
      "source": [
        "X_test.columns"
      ],
      "id": "rQgGSBcPHRNV"
    },
    {
      "cell_type": "code",
      "execution_count": null,
      "metadata": {
        "id": "ggb5yUkdHRNV",
        "outputId": "0c0c5cc4-9dca-4600-9229-9aff4cae8f26",
        "colab": {
          "base_uri": "https://localhost:8080/",
          "height": 206
        }
      },
      "outputs": [
        {
          "output_type": "execute_result",
          "data": {
            "text/plain": [
              "           TV     radio  newspaper\n",
              "19  -0.960169 -0.196603  -0.553176\n",
              "171 -1.186874 -0.802453  -0.548498\n",
              "108 -0.709849 -1.571677  -0.323965\n",
              "99   1.643399  1.287388   0.985811\n",
              "178  0.232395 -1.061130   0.237368"
            ],
            "text/html": [
              "\n",
              "  <div id=\"df-3fc32b54-aaa2-47bb-a882-0faca4771290\">\n",
              "    <div class=\"colab-df-container\">\n",
              "      <div>\n",
              "<style scoped>\n",
              "    .dataframe tbody tr th:only-of-type {\n",
              "        vertical-align: middle;\n",
              "    }\n",
              "\n",
              "    .dataframe tbody tr th {\n",
              "        vertical-align: top;\n",
              "    }\n",
              "\n",
              "    .dataframe thead th {\n",
              "        text-align: right;\n",
              "    }\n",
              "</style>\n",
              "<table border=\"1\" class=\"dataframe\">\n",
              "  <thead>\n",
              "    <tr style=\"text-align: right;\">\n",
              "      <th></th>\n",
              "      <th>TV</th>\n",
              "      <th>radio</th>\n",
              "      <th>newspaper</th>\n",
              "    </tr>\n",
              "  </thead>\n",
              "  <tbody>\n",
              "    <tr>\n",
              "      <th>19</th>\n",
              "      <td>-0.960169</td>\n",
              "      <td>-0.196603</td>\n",
              "      <td>-0.553176</td>\n",
              "    </tr>\n",
              "    <tr>\n",
              "      <th>171</th>\n",
              "      <td>-1.186874</td>\n",
              "      <td>-0.802453</td>\n",
              "      <td>-0.548498</td>\n",
              "    </tr>\n",
              "    <tr>\n",
              "      <th>108</th>\n",
              "      <td>-0.709849</td>\n",
              "      <td>-1.571677</td>\n",
              "      <td>-0.323965</td>\n",
              "    </tr>\n",
              "    <tr>\n",
              "      <th>99</th>\n",
              "      <td>1.643399</td>\n",
              "      <td>1.287388</td>\n",
              "      <td>0.985811</td>\n",
              "    </tr>\n",
              "    <tr>\n",
              "      <th>178</th>\n",
              "      <td>0.232395</td>\n",
              "      <td>-1.061130</td>\n",
              "      <td>0.237368</td>\n",
              "    </tr>\n",
              "  </tbody>\n",
              "</table>\n",
              "</div>\n",
              "      <button class=\"colab-df-convert\" onclick=\"convertToInteractive('df-3fc32b54-aaa2-47bb-a882-0faca4771290')\"\n",
              "              title=\"Convert this dataframe to an interactive table.\"\n",
              "              style=\"display:none;\">\n",
              "        \n",
              "  <svg xmlns=\"http://www.w3.org/2000/svg\" height=\"24px\"viewBox=\"0 0 24 24\"\n",
              "       width=\"24px\">\n",
              "    <path d=\"M0 0h24v24H0V0z\" fill=\"none\"/>\n",
              "    <path d=\"M18.56 5.44l.94 2.06.94-2.06 2.06-.94-2.06-.94-.94-2.06-.94 2.06-2.06.94zm-11 1L8.5 8.5l.94-2.06 2.06-.94-2.06-.94L8.5 2.5l-.94 2.06-2.06.94zm10 10l.94 2.06.94-2.06 2.06-.94-2.06-.94-.94-2.06-.94 2.06-2.06.94z\"/><path d=\"M17.41 7.96l-1.37-1.37c-.4-.4-.92-.59-1.43-.59-.52 0-1.04.2-1.43.59L10.3 9.45l-7.72 7.72c-.78.78-.78 2.05 0 2.83L4 21.41c.39.39.9.59 1.41.59.51 0 1.02-.2 1.41-.59l7.78-7.78 2.81-2.81c.8-.78.8-2.07 0-2.86zM5.41 20L4 18.59l7.72-7.72 1.47 1.35L5.41 20z\"/>\n",
              "  </svg>\n",
              "      </button>\n",
              "      \n",
              "  <style>\n",
              "    .colab-df-container {\n",
              "      display:flex;\n",
              "      flex-wrap:wrap;\n",
              "      gap: 12px;\n",
              "    }\n",
              "\n",
              "    .colab-df-convert {\n",
              "      background-color: #E8F0FE;\n",
              "      border: none;\n",
              "      border-radius: 50%;\n",
              "      cursor: pointer;\n",
              "      display: none;\n",
              "      fill: #1967D2;\n",
              "      height: 32px;\n",
              "      padding: 0 0 0 0;\n",
              "      width: 32px;\n",
              "    }\n",
              "\n",
              "    .colab-df-convert:hover {\n",
              "      background-color: #E2EBFA;\n",
              "      box-shadow: 0px 1px 2px rgba(60, 64, 67, 0.3), 0px 1px 3px 1px rgba(60, 64, 67, 0.15);\n",
              "      fill: #174EA6;\n",
              "    }\n",
              "\n",
              "    [theme=dark] .colab-df-convert {\n",
              "      background-color: #3B4455;\n",
              "      fill: #D2E3FC;\n",
              "    }\n",
              "\n",
              "    [theme=dark] .colab-df-convert:hover {\n",
              "      background-color: #434B5C;\n",
              "      box-shadow: 0px 1px 3px 1px rgba(0, 0, 0, 0.15);\n",
              "      filter: drop-shadow(0px 1px 2px rgba(0, 0, 0, 0.3));\n",
              "      fill: #FFFFFF;\n",
              "    }\n",
              "  </style>\n",
              "\n",
              "      <script>\n",
              "        const buttonEl =\n",
              "          document.querySelector('#df-3fc32b54-aaa2-47bb-a882-0faca4771290 button.colab-df-convert');\n",
              "        buttonEl.style.display =\n",
              "          google.colab.kernel.accessAllowed ? 'block' : 'none';\n",
              "\n",
              "        async function convertToInteractive(key) {\n",
              "          const element = document.querySelector('#df-3fc32b54-aaa2-47bb-a882-0faca4771290');\n",
              "          const dataTable =\n",
              "            await google.colab.kernel.invokeFunction('convertToInteractive',\n",
              "                                                     [key], {});\n",
              "          if (!dataTable) return;\n",
              "\n",
              "          const docLinkHtml = 'Like what you see? Visit the ' +\n",
              "            '<a target=\"_blank\" href=https://colab.research.google.com/notebooks/data_table.ipynb>data table notebook</a>'\n",
              "            + ' to learn more about interactive tables.';\n",
              "          element.innerHTML = '';\n",
              "          dataTable['output_type'] = 'display_data';\n",
              "          await google.colab.output.renderOutput(dataTable, element);\n",
              "          const docLink = document.createElement('div');\n",
              "          docLink.innerHTML = docLinkHtml;\n",
              "          element.appendChild(docLink);\n",
              "        }\n",
              "      </script>\n",
              "    </div>\n",
              "  </div>\n",
              "  "
            ]
          },
          "metadata": {},
          "execution_count": 41
        }
      ],
      "source": [
        "X_test[['TV', 'radio', 'newspaper']] = scaler.transform(X_test[['TV', 'radio', 'newspaper']])\n",
        "X_test.head()"
      ],
      "id": "ggb5yUkdHRNV"
    },
    {
      "cell_type": "markdown",
      "metadata": {
        "id": "m2RHA4buHRNW"
      },
      "source": [
        "# Modeling using Linear Regression"
      ],
      "id": "m2RHA4buHRNW"
    },
    {
      "cell_type": "code",
      "execution_count": null,
      "metadata": {
        "id": "MXpJhkDtHRNW",
        "outputId": "0ce94d0b-736d-4c19-8852-6de52138b4dd",
        "colab": {
          "base_uri": "https://localhost:8080/",
          "height": 74
        }
      },
      "outputs": [
        {
          "output_type": "execute_result",
          "data": {
            "text/plain": [
              "LinearRegression()"
            ],
            "text/html": [
              "<style>#sk-container-id-2 {color: black;background-color: white;}#sk-container-id-2 pre{padding: 0;}#sk-container-id-2 div.sk-toggleable {background-color: white;}#sk-container-id-2 label.sk-toggleable__label {cursor: pointer;display: block;width: 100%;margin-bottom: 0;padding: 0.3em;box-sizing: border-box;text-align: center;}#sk-container-id-2 label.sk-toggleable__label-arrow:before {content: \"▸\";float: left;margin-right: 0.25em;color: #696969;}#sk-container-id-2 label.sk-toggleable__label-arrow:hover:before {color: black;}#sk-container-id-2 div.sk-estimator:hover label.sk-toggleable__label-arrow:before {color: black;}#sk-container-id-2 div.sk-toggleable__content {max-height: 0;max-width: 0;overflow: hidden;text-align: left;background-color: #f0f8ff;}#sk-container-id-2 div.sk-toggleable__content pre {margin: 0.2em;color: black;border-radius: 0.25em;background-color: #f0f8ff;}#sk-container-id-2 input.sk-toggleable__control:checked~div.sk-toggleable__content {max-height: 200px;max-width: 100%;overflow: auto;}#sk-container-id-2 input.sk-toggleable__control:checked~label.sk-toggleable__label-arrow:before {content: \"▾\";}#sk-container-id-2 div.sk-estimator input.sk-toggleable__control:checked~label.sk-toggleable__label {background-color: #d4ebff;}#sk-container-id-2 div.sk-label input.sk-toggleable__control:checked~label.sk-toggleable__label {background-color: #d4ebff;}#sk-container-id-2 input.sk-hidden--visually {border: 0;clip: rect(1px 1px 1px 1px);clip: rect(1px, 1px, 1px, 1px);height: 1px;margin: -1px;overflow: hidden;padding: 0;position: absolute;width: 1px;}#sk-container-id-2 div.sk-estimator {font-family: monospace;background-color: #f0f8ff;border: 1px dotted black;border-radius: 0.25em;box-sizing: border-box;margin-bottom: 0.5em;}#sk-container-id-2 div.sk-estimator:hover {background-color: #d4ebff;}#sk-container-id-2 div.sk-parallel-item::after {content: \"\";width: 100%;border-bottom: 1px solid gray;flex-grow: 1;}#sk-container-id-2 div.sk-label:hover label.sk-toggleable__label {background-color: #d4ebff;}#sk-container-id-2 div.sk-serial::before {content: \"\";position: absolute;border-left: 1px solid gray;box-sizing: border-box;top: 0;bottom: 0;left: 50%;z-index: 0;}#sk-container-id-2 div.sk-serial {display: flex;flex-direction: column;align-items: center;background-color: white;padding-right: 0.2em;padding-left: 0.2em;position: relative;}#sk-container-id-2 div.sk-item {position: relative;z-index: 1;}#sk-container-id-2 div.sk-parallel {display: flex;align-items: stretch;justify-content: center;background-color: white;position: relative;}#sk-container-id-2 div.sk-item::before, #sk-container-id-2 div.sk-parallel-item::before {content: \"\";position: absolute;border-left: 1px solid gray;box-sizing: border-box;top: 0;bottom: 0;left: 50%;z-index: -1;}#sk-container-id-2 div.sk-parallel-item {display: flex;flex-direction: column;z-index: 1;position: relative;background-color: white;}#sk-container-id-2 div.sk-parallel-item:first-child::after {align-self: flex-end;width: 50%;}#sk-container-id-2 div.sk-parallel-item:last-child::after {align-self: flex-start;width: 50%;}#sk-container-id-2 div.sk-parallel-item:only-child::after {width: 0;}#sk-container-id-2 div.sk-dashed-wrapped {border: 1px dashed gray;margin: 0 0.4em 0.5em 0.4em;box-sizing: border-box;padding-bottom: 0.4em;background-color: white;}#sk-container-id-2 div.sk-label label {font-family: monospace;font-weight: bold;display: inline-block;line-height: 1.2em;}#sk-container-id-2 div.sk-label-container {text-align: center;}#sk-container-id-2 div.sk-container {/* jupyter's `normalize.less` sets `[hidden] { display: none; }` but bootstrap.min.css set `[hidden] { display: none !important; }` so we also need the `!important` here to be able to override the default hidden behavior on the sphinx rendered scikit-learn.org. See: https://github.com/scikit-learn/scikit-learn/issues/21755 */display: inline-block !important;position: relative;}#sk-container-id-2 div.sk-text-repr-fallback {display: none;}</style><div id=\"sk-container-id-2\" class=\"sk-top-container\"><div class=\"sk-text-repr-fallback\"><pre>LinearRegression()</pre><b>In a Jupyter environment, please rerun this cell to show the HTML representation or trust the notebook. <br />On GitHub, the HTML representation is unable to render, please try loading this page with nbviewer.org.</b></div><div class=\"sk-container\" hidden><div class=\"sk-item\"><div class=\"sk-estimator sk-toggleable\"><input class=\"sk-toggleable__control sk-hidden--visually\" id=\"sk-estimator-id-2\" type=\"checkbox\" checked><label for=\"sk-estimator-id-2\" class=\"sk-toggleable__label sk-toggleable__label-arrow\">LinearRegression</label><div class=\"sk-toggleable__content\"><pre>LinearRegression()</pre></div></div></div></div></div>"
            ]
          },
          "metadata": {},
          "execution_count": 42
        }
      ],
      "source": [
        "from sklearn.linear_model import LinearRegression\n",
        "regressor = LinearRegression()\n",
        "regressor.fit(X_train, y_train)"
      ],
      "id": "MXpJhkDtHRNW"
    },
    {
      "cell_type": "code",
      "execution_count": null,
      "metadata": {
        "id": "G_54aaF4HRNW",
        "outputId": "a59922c1-2892-4907-8d9d-71388c7fc625"
      },
      "outputs": [
        {
          "data": {
            "text/plain": [
              "LinearRegression()"
            ]
          },
          "execution_count": 236,
          "metadata": {},
          "output_type": "execute_result"
        }
      ],
      "source": [
        "regressor"
      ],
      "id": "G_54aaF4HRNW"
    },
    {
      "cell_type": "code",
      "execution_count": null,
      "metadata": {
        "id": "uk6UcYqfHRNW",
        "outputId": "fdd2e192-5ebd-472f-dcf3-be706fa639e3",
        "colab": {
          "base_uri": "https://localhost:8080/"
        }
      },
      "outputs": [
        {
          "output_type": "execute_result",
          "data": {
            "text/plain": [
              "14.217500000000001"
            ]
          },
          "metadata": {},
          "execution_count": 43
        }
      ],
      "source": [
        "# y = mx + c\n",
        "# Intercept c\n",
        "regressor.intercept_"
      ],
      "id": "uk6UcYqfHRNW"
    },
    {
      "cell_type": "code",
      "execution_count": null,
      "metadata": {
        "id": "vUcKURxiHRNW",
        "outputId": "a4ae0311-c8db-4fee-a814-e38d0c32ff29",
        "colab": {
          "base_uri": "https://localhost:8080/"
        }
      },
      "outputs": [
        {
          "output_type": "execute_result",
          "data": {
            "text/plain": [
              "array([ 3.77588591,  2.88656448, -0.05946128])"
            ]
          },
          "metadata": {},
          "execution_count": 44
        }
      ],
      "source": [
        "# y = mx + c\n",
        "# Slope\n",
        "regressor.coef_"
      ],
      "id": "vUcKURxiHRNW"
    },
    {
      "cell_type": "code",
      "execution_count": null,
      "metadata": {
        "id": "O0ltfWApHRNW",
        "outputId": "a2f5d1aa-f18c-402c-d612-605d404e75f5"
      },
      "outputs": [
        {
          "data": {
            "text/plain": [
              "Index(['TV', 'radio', 'newspaper'], dtype='object')"
            ]
          },
          "execution_count": 239,
          "metadata": {},
          "output_type": "execute_result"
        }
      ],
      "source": [
        "X_train.columns"
      ],
      "id": "O0ltfWApHRNW"
    },
    {
      "cell_type": "markdown",
      "metadata": {
        "id": "tBr2fxtVHRNX"
      },
      "source": [
        "If we look, the coefficient values of the IVs are as follows:\n",
        "\n",
        ">TV i.e. m1 =3.77588591\n",
        "\n",
        ">Radio i.e. m2 = 2.88656448\n",
        "\n",
        ">Newspaper i.e. m3 = -0.05946128\n",
        "\n",
        "__If we observe carefully, TV has the highest coefficient value and Newspaper has the lowest. This means that as per Linear Regression, TV is the most important predictor and Newspaper is the least important predictor.__\n",
        "\n",
        "### TV > Radio > Newspaper"
      ],
      "id": "tBr2fxtVHRNX"
    },
    {
      "cell_type": "code",
      "execution_count": null,
      "metadata": {
        "id": "dIObVrSRHRNX"
      },
      "outputs": [],
      "source": [
        "# y = m1*x1 + m2*x2 + m3*x3 + c\n",
        "# y = 3.77588591*x1 + 2.88656448*x2 + (-0.05946128)*x3 + 14.217500000000001"
      ],
      "id": "dIObVrSRHRNX"
    },
    {
      "cell_type": "code",
      "execution_count": null,
      "metadata": {
        "id": "A0jgugzmHRNX",
        "outputId": "17124c95-6aab-4776-baab-1a1cf5f1c878",
        "colab": {
          "base_uri": "https://localhost:8080/"
        }
      },
      "outputs": [
        {
          "output_type": "execute_result",
          "data": {
            "text/plain": [
              "array([10.05739563,  7.4522807 ,  7.0197076 , 24.08029725, 12.01786259,\n",
              "        6.53793858, 12.78286918, 15.10974587, 10.76974013, 16.34357951,\n",
              "       22.88297477,  9.12924467, 10.46455672, 15.48743552, 11.58555633,\n",
              "       12.17296914, 18.76551502, 10.78318566, 15.90515992, 17.30651279,\n",
              "       24.06692057,  9.59834224, 15.13512211, 12.38591525,  5.71360885,\n",
              "       15.24749314, 12.29402334, 20.9421167 , 13.40991558,  9.04348832,\n",
              "       12.89239415, 21.40272028, 18.13802209, 21.17320803,  6.56974433,\n",
              "        6.14114206,  7.89018394, 13.01541434, 14.68953791,  6.18835143])"
            ]
          },
          "metadata": {},
          "execution_count": 47
        }
      ],
      "source": [
        "y_pred_test = regressor.predict(X_test)\n",
        "y_pred_test"
      ],
      "id": "A0jgugzmHRNX"
    },
    {
      "cell_type": "code",
      "execution_count": null,
      "metadata": {
        "id": "-5j4ZdGPHRNX"
      },
      "outputs": [],
      "source": [
        "#print(y_test)"
      ],
      "id": "-5j4ZdGPHRNX"
    },
    {
      "cell_type": "code",
      "execution_count": null,
      "metadata": {
        "id": "8267zETNHRNX"
      },
      "outputs": [],
      "source": [
        "y_pred_train = regressor.predict(X_train)\n",
        "#y_pred_train"
      ],
      "id": "8267zETNHRNX"
    },
    {
      "cell_type": "code",
      "execution_count": null,
      "metadata": {
        "id": "swn7lZE-HRNY",
        "outputId": "aac1887c-4751-46b0-899e-92139ccf129a",
        "colab": {
          "base_uri": "https://localhost:8080/"
        }
      },
      "outputs": [
        {
          "output_type": "execute_result",
          "data": {
            "text/plain": [
              "135    10.8\n",
              "67      9.5\n",
              "27     15.0\n",
              "114    15.9\n",
              "169    17.1\n",
              "       ... \n",
              "68     13.4\n",
              "193     5.9\n",
              "118     9.4\n",
              "48     23.2\n",
              "173     7.6\n",
              "Name: sales, Length: 160, dtype: float64"
            ]
          },
          "metadata": {},
          "execution_count": 38
        }
      ],
      "source": [
        "y_train"
      ],
      "id": "swn7lZE-HRNY"
    },
    {
      "cell_type": "code",
      "execution_count": null,
      "metadata": {
        "id": "WbWB6JUFHRNY",
        "outputId": "8cd5c6e4-5ab0-4809-80de-af09127445d4"
      },
      "outputs": [
        {
          "data": {
            "text/html": [
              "<div>\n",
              "<style scoped>\n",
              "    .dataframe tbody tr th:only-of-type {\n",
              "        vertical-align: middle;\n",
              "    }\n",
              "\n",
              "    .dataframe tbody tr th {\n",
              "        vertical-align: top;\n",
              "    }\n",
              "\n",
              "    .dataframe thead th {\n",
              "        text-align: right;\n",
              "    }\n",
              "</style>\n",
              "<table border=\"1\" class=\"dataframe\">\n",
              "  <thead>\n",
              "    <tr style=\"text-align: right;\">\n",
              "      <th></th>\n",
              "      <th>TV</th>\n",
              "      <th>radio</th>\n",
              "      <th>newspaper</th>\n",
              "    </tr>\n",
              "  </thead>\n",
              "  <tbody>\n",
              "    <tr>\n",
              "      <th>190</th>\n",
              "      <td>-1.556451</td>\n",
              "      <td>-0.768416</td>\n",
              "      <td>-0.314609</td>\n",
              "    </tr>\n",
              "    <tr>\n",
              "      <th>130</th>\n",
              "      <td>-1.073522</td>\n",
              "      <td>-0.775224</td>\n",
              "      <td>0.606912</td>\n",
              "    </tr>\n",
              "    <tr>\n",
              "      <th>5</th>\n",
              "      <td>0.357555</td>\n",
              "      <td>-0.856911</td>\n",
              "      <td>1.322611</td>\n",
              "    </tr>\n",
              "    <tr>\n",
              "      <th>84</th>\n",
              "      <td>-0.969615</td>\n",
              "      <td>1.437148</td>\n",
              "      <td>0.256079</td>\n",
              "    </tr>\n",
              "    <tr>\n",
              "      <th>107</th>\n",
              "      <td>-1.482063</td>\n",
              "      <td>-0.843297</td>\n",
              "      <td>-0.019910</td>\n",
              "    </tr>\n",
              "  </tbody>\n",
              "</table>\n",
              "</div>"
            ],
            "text/plain": [
              "           TV     radio  newspaper\n",
              "190 -1.556451 -0.768416  -0.314609\n",
              "130 -1.073522 -0.775224   0.606912\n",
              "5    0.357555 -0.856911   1.322611\n",
              "84  -0.969615  1.437148   0.256079\n",
              "107 -1.482063 -0.843297  -0.019910"
            ]
          },
          "execution_count": 244,
          "metadata": {},
          "output_type": "execute_result"
        }
      ],
      "source": [
        "X_test.tail()"
      ],
      "id": "WbWB6JUFHRNY"
    },
    {
      "cell_type": "code",
      "execution_count": null,
      "metadata": {
        "id": "rBeMaJs6HRNY",
        "outputId": "b4ddc07a-b687-425c-cc22-418ecabd1967",
        "colab": {
          "base_uri": "https://localhost:8080/"
        }
      },
      "outputs": [
        {
          "output_type": "execute_result",
          "data": {
            "text/plain": [
              "array([10.05739563,  7.4522807 ,  7.0197076 , 24.08029725, 12.01786259,\n",
              "        6.53793858, 12.78286918, 15.10974587, 10.76974013, 16.34357951,\n",
              "       22.88297477,  9.12924467, 10.46455672, 15.48743552, 11.58555633,\n",
              "       12.17296914, 18.76551502, 10.78318566, 15.90515992, 17.30651279,\n",
              "       24.06692057,  9.59834224, 15.13512211, 12.38591525,  5.71360885,\n",
              "       15.24749314, 12.29402334, 20.9421167 , 13.40991558,  9.04348832,\n",
              "       12.89239415, 21.40272028, 18.13802209, 21.17320803,  6.56974433,\n",
              "        6.14114206,  7.89018394, 13.01541434, 14.68953791,  6.18835143])"
            ]
          },
          "metadata": {},
          "execution_count": 49
        }
      ],
      "source": [
        "y_pred_test"
      ],
      "id": "rBeMaJs6HRNY"
    },
    {
      "cell_type": "markdown",
      "metadata": {
        "id": "HC29mPU0HRNY"
      },
      "source": [
        "# Compute how good is out model.\n",
        "\n"
      ],
      "id": "HC29mPU0HRNY"
    },
    {
      "cell_type": "code",
      "execution_count": null,
      "metadata": {
        "id": "Uxr3QxHQHRNZ"
      },
      "outputs": [],
      "source": [
        "from sklearn.metrics import mean_absolute_error, mean_squared_error, r2_score"
      ],
      "id": "Uxr3QxHQHRNZ"
    },
    {
      "cell_type": "code",
      "execution_count": null,
      "metadata": {
        "id": "C_TfaXYJHRNZ",
        "outputId": "18cc7731-ad37-4855-bf67-0b3dd8097af1",
        "colab": {
          "base_uri": "https://localhost:8080/"
        }
      },
      "outputs": [
        {
          "output_type": "stream",
          "name": "stdout",
          "text": [
            "1.2131871622729427   1.361781350209028\n"
          ]
        }
      ],
      "source": [
        "MAE_train = mean_absolute_error(y_train, y_pred_train)\n",
        "MAE_test = mean_absolute_error(y_test, y_pred_test)\n",
        "print(MAE_train,\" \",MAE_test)"
      ],
      "id": "C_TfaXYJHRNZ"
    },
    {
      "cell_type": "code",
      "execution_count": null,
      "metadata": {
        "id": "-qm2UsdkHRNZ",
        "outputId": "df45a9bf-1c53-4929-966b-def78842d72e",
        "colab": {
          "base_uri": "https://localhost:8080/"
        }
      },
      "outputs": [
        {
          "output_type": "stream",
          "name": "stdout",
          "text": [
            "4.402118291449684\n"
          ]
        }
      ],
      "source": [
        "#MSE_train = mean_squared_error(y_train, y_pred_train)\n",
        "MSE_test = mean_squared_error(y_test, y_pred_test)\n",
        "#print(MSE_train,\" \",MSE_test)\n",
        "print(MSE_test)"
      ],
      "id": "-qm2UsdkHRNZ"
    },
    {
      "cell_type": "code",
      "execution_count": null,
      "metadata": {
        "id": "yJ1dlZloHRNZ",
        "outputId": "dcacc1ce-fec3-4e3f-9f66-bc9ef63a96c3",
        "colab": {
          "base_uri": "https://localhost:8080/"
        }
      },
      "outputs": [
        {
          "output_type": "stream",
          "name": "stdout",
          "text": [
            "2.09812256349568\n"
          ]
        }
      ],
      "source": [
        "#RMSE_train = np.sqrt(mean_squared_error(y_train, y_pred_train))\n",
        "RMSE_test = np.sqrt(mean_squared_error(y_test, y_pred_test))\n",
        "print(RMSE_test)\n",
        "#print(RMSE_train,\" \",RMSE_test)"
      ],
      "id": "yJ1dlZloHRNZ"
    },
    {
      "cell_type": "code",
      "execution_count": null,
      "metadata": {
        "id": "IZUmcRZRHRNZ",
        "outputId": "57755981-b18a-4aa8-f866-a5f536a0d223",
        "colab": {
          "base_uri": "https://localhost:8080/"
        }
      },
      "outputs": [
        {
          "output_type": "stream",
          "name": "stdout",
          "text": [
            "0.8601145185017869\n"
          ]
        }
      ],
      "source": [
        "#R2_train = r2_score(y_train, y_pred_train)\n",
        "R2_test = r2_score(y_test, y_pred_test)\n",
        "print(R2_test)\n",
        "#print(R2_train,\" \",R2_test)"
      ],
      "id": "IZUmcRZRHRNZ"
    },
    {
      "cell_type": "code",
      "source": [],
      "metadata": {
        "id": "e_OxZghgNsVy"
      },
      "id": "e_OxZghgNsVy",
      "execution_count": null,
      "outputs": []
    },
    {
      "cell_type": "code",
      "execution_count": null,
      "metadata": {
        "id": "JtRs2dRJHRNZ",
        "outputId": "e509647c-89ae-4548-a2d1-adfe616adc15"
      },
      "outputs": [
        {
          "data": {
            "text/plain": [
              "(160, 3)"
            ]
          },
          "execution_count": 252,
          "metadata": {},
          "output_type": "execute_result"
        }
      ],
      "source": [
        "X_train.shape"
      ],
      "id": "JtRs2dRJHRNZ"
    },
    {
      "cell_type": "code",
      "execution_count": null,
      "metadata": {
        "id": "Mz3JPGmsHRNZ",
        "outputId": "202c80b3-888a-457d-cd09-8ffe15d3e40f",
        "colab": {
          "base_uri": "https://localhost:8080/"
        }
      },
      "outputs": [
        {
          "output_type": "stream",
          "name": "stdout",
          "text": [
            "160 3\n"
          ]
        }
      ],
      "source": [
        "n = X_train.shape[0]\n",
        "p = X_train.shape[1]\n",
        "print(n,p)"
      ],
      "id": "Mz3JPGmsHRNZ"
    },
    {
      "cell_type": "markdown",
      "metadata": {
        "id": "O37aJR6wHRNa"
      },
      "source": [
        "num = (1-R2_train)*(n-1)\n",
        "den = n-p-1\n",
        "AR2_train = 1-(num/den)\n",
        "AR2_train"
      ],
      "id": "O37aJR6wHRNa"
    },
    {
      "cell_type": "code",
      "execution_count": null,
      "metadata": {
        "id": "AJwnegL2HRNa",
        "outputId": "58bb64ee-4da5-4148-f12b-9e80cbc68d25"
      },
      "outputs": [
        {
          "data": {
            "text/plain": [
              "(40, 3)"
            ]
          },
          "execution_count": 255,
          "metadata": {},
          "output_type": "execute_result"
        }
      ],
      "source": [
        "X_test.shape"
      ],
      "id": "AJwnegL2HRNa"
    },
    {
      "cell_type": "code",
      "execution_count": null,
      "metadata": {
        "id": "IqsPOhkXHRNa",
        "outputId": "b52dd9ea-886a-4cc9-b0b1-f8a26a2a4053",
        "colab": {
          "base_uri": "https://localhost:8080/"
        }
      },
      "outputs": [
        {
          "output_type": "stream",
          "name": "stdout",
          "text": [
            "40 3\n"
          ]
        }
      ],
      "source": [
        "n = X_test.shape[0]\n",
        "p = X_test.shape[1]\n",
        "print(n,p)"
      ],
      "id": "IqsPOhkXHRNa"
    },
    {
      "cell_type": "code",
      "execution_count": null,
      "metadata": {
        "id": "u67fhlDjHRNa",
        "outputId": "81410aa3-5d53-452b-a033-a4555b5294e9",
        "colab": {
          "base_uri": "https://localhost:8080/"
        }
      },
      "outputs": [
        {
          "output_type": "execute_result",
          "data": {
            "text/plain": [
              "0.8484573950436025"
            ]
          },
          "metadata": {},
          "execution_count": 58
        }
      ],
      "source": [
        "num = (1-R2_test)*(n-1)\n",
        "den = n-p-1\n",
        "AR2_test = 1-(num/den)\n",
        "AR2_test"
      ],
      "id": "u67fhlDjHRNa"
    },
    {
      "cell_type": "raw",
      "metadata": {
        "id": "a79WdVN7HRNa"
      },
      "source": [
        "We successfuly performed one experiment as a Data Scientist.\n",
        "\n",
        "1. 80-20 split, random_state=0\n",
        "2. Standard Scaling\n",
        "3. Linear Regression with 3IVs\n",
        "\n",
        "Results:\n",
        "Ar2:\n",
        "Train: 0.9049\n",
        "Test: 0.8484"
      ],
      "id": "a79WdVN7HRNa"
    },
    {
      "cell_type": "code",
      "source": [
        "import seaborn as sns\n",
        "sns.distplot(y_test-y_pred_test)\n",
        "plt.show()"
      ],
      "metadata": {
        "colab": {
          "base_uri": "https://localhost:8080/",
          "height": 449
        },
        "id": "5NNuQAXJOMLW",
        "outputId": "ac8fbb4c-85cf-41a6-d786-406833fcad20"
      },
      "id": "5NNuQAXJOMLW",
      "execution_count": null,
      "outputs": [
        {
          "output_type": "display_data",
          "data": {
            "text/plain": [
              "<Figure size 640x480 with 1 Axes>"
            ],
            "image/png": "[encoded data removed]"
          },
          "metadata": {}
        }
      ]
    },
    {
      "cell_type": "code",
      "execution_count": null,
      "metadata": {
        "id": "YLqHtjL0HRNa"
      },
      "outputs": [],
      "source": [],
      "id": "YLqHtjL0HRNa"
    },
    {
      "cell_type": "markdown",
      "metadata": {
        "id": "aZL5ffhDHRNa"
      },
      "source": [
        "# Modeling with a new model using Linear Regression"
      ],
      "id": "aZL5ffhDHRNa"
    },
    {
      "cell_type": "code",
      "execution_count": null,
      "metadata": {
        "id": "Hz2m0923HRNa",
        "outputId": "fcdd40f3-6e3b-48fa-f557-6817a2ce83ac"
      },
      "outputs": [
        {
          "data": {
            "text/html": [
              "<div>\n",
              "<style scoped>\n",
              "    .dataframe tbody tr th:only-of-type {\n",
              "        vertical-align: middle;\n",
              "    }\n",
              "\n",
              "    .dataframe tbody tr th {\n",
              "        vertical-align: top;\n",
              "    }\n",
              "\n",
              "    .dataframe thead th {\n",
              "        text-align: right;\n",
              "    }\n",
              "</style>\n",
              "<table border=\"1\" class=\"dataframe\">\n",
              "  <thead>\n",
              "    <tr style=\"text-align: right;\">\n",
              "      <th></th>\n",
              "      <th>TV</th>\n",
              "      <th>radio</th>\n",
              "      <th>newspaper</th>\n",
              "    </tr>\n",
              "  </thead>\n",
              "  <tbody>\n",
              "    <tr>\n",
              "      <th>135</th>\n",
              "      <td>-1.341553</td>\n",
              "      <td>1.035518</td>\n",
              "      <td>1.659411</td>\n",
              "    </tr>\n",
              "    <tr>\n",
              "      <th>67</th>\n",
              "      <td>-1.405314</td>\n",
              "      <td>0.082496</td>\n",
              "      <td>-1.306297</td>\n",
              "    </tr>\n",
              "    <tr>\n",
              "      <th>27</th>\n",
              "      <td>-0.089952</td>\n",
              "      <td>0.402439</td>\n",
              "      <td>-0.819809</td>\n",
              "    </tr>\n",
              "    <tr>\n",
              "      <th>114</th>\n",
              "      <td>0.697613</td>\n",
              "      <td>-0.189796</td>\n",
              "      <td>-0.908687</td>\n",
              "    </tr>\n",
              "    <tr>\n",
              "      <th>169</th>\n",
              "      <td>0.766097</td>\n",
              "      <td>0.014423</td>\n",
              "      <td>1.285189</td>\n",
              "    </tr>\n",
              "  </tbody>\n",
              "</table>\n",
              "</div>"
            ],
            "text/plain": [
              "           TV     radio  newspaper\n",
              "135 -1.341553  1.035518   1.659411\n",
              "67  -1.405314  0.082496  -1.306297\n",
              "27  -0.089952  0.402439  -0.819809\n",
              "114  0.697613 -0.189796  -0.908687\n",
              "169  0.766097  0.014423   1.285189"
            ]
          },
          "execution_count": 258,
          "metadata": {},
          "output_type": "execute_result"
        }
      ],
      "source": [
        "X_train.head()"
      ],
      "id": "Hz2m0923HRNa"
    },
    {
      "cell_type": "code",
      "execution_count": null,
      "metadata": {
        "id": "y3xMsH1oHRNb"
      },
      "outputs": [],
      "source": [
        "X_train.drop(['newspaper'], axis=1, inplace=True)"
      ],
      "id": "y3xMsH1oHRNb"
    },
    {
      "cell_type": "code",
      "execution_count": null,
      "metadata": {
        "id": "ksADeubYHRNb"
      },
      "outputs": [],
      "source": [
        "X_test.drop(['newspaper'], axis=1, inplace=True)"
      ],
      "id": "ksADeubYHRNb"
    },
    {
      "cell_type": "code",
      "execution_count": null,
      "metadata": {
        "id": "r6Q3kXTAHRNb",
        "outputId": "4ce00dfb-40d3-4e78-882f-c9367ba0b764"
      },
      "outputs": [
        {
          "data": {
            "text/html": [
              "<div>\n",
              "<style scoped>\n",
              "    .dataframe tbody tr th:only-of-type {\n",
              "        vertical-align: middle;\n",
              "    }\n",
              "\n",
              "    .dataframe tbody tr th {\n",
              "        vertical-align: top;\n",
              "    }\n",
              "\n",
              "    .dataframe thead th {\n",
              "        text-align: right;\n",
              "    }\n",
              "</style>\n",
              "<table border=\"1\" class=\"dataframe\">\n",
              "  <thead>\n",
              "    <tr style=\"text-align: right;\">\n",
              "      <th></th>\n",
              "      <th>TV</th>\n",
              "      <th>radio</th>\n",
              "    </tr>\n",
              "  </thead>\n",
              "  <tbody>\n",
              "    <tr>\n",
              "      <th>135</th>\n",
              "      <td>-1.341553</td>\n",
              "      <td>1.035518</td>\n",
              "    </tr>\n",
              "    <tr>\n",
              "      <th>67</th>\n",
              "      <td>-1.405314</td>\n",
              "      <td>0.082496</td>\n",
              "    </tr>\n",
              "    <tr>\n",
              "      <th>27</th>\n",
              "      <td>-0.089952</td>\n",
              "      <td>0.402439</td>\n",
              "    </tr>\n",
              "    <tr>\n",
              "      <th>114</th>\n",
              "      <td>0.697613</td>\n",
              "      <td>-0.189796</td>\n",
              "    </tr>\n",
              "    <tr>\n",
              "      <th>169</th>\n",
              "      <td>0.766097</td>\n",
              "      <td>0.014423</td>\n",
              "    </tr>\n",
              "  </tbody>\n",
              "</table>\n",
              "</div>"
            ],
            "text/plain": [
              "           TV     radio\n",
              "135 -1.341553  1.035518\n",
              "67  -1.405314  0.082496\n",
              "27  -0.089952  0.402439\n",
              "114  0.697613 -0.189796\n",
              "169  0.766097  0.014423"
            ]
          },
          "execution_count": 261,
          "metadata": {},
          "output_type": "execute_result"
        }
      ],
      "source": [
        "X_train.head()"
      ],
      "id": "r6Q3kXTAHRNb"
    },
    {
      "cell_type": "code",
      "execution_count": null,
      "metadata": {
        "id": "7sCybHG1HRNb",
        "outputId": "c02140d2-a09a-4980-dccf-3f320519cb10"
      },
      "outputs": [
        {
          "data": {
            "text/html": [
              "<div>\n",
              "<style scoped>\n",
              "    .dataframe tbody tr th:only-of-type {\n",
              "        vertical-align: middle;\n",
              "    }\n",
              "\n",
              "    .dataframe tbody tr th {\n",
              "        vertical-align: top;\n",
              "    }\n",
              "\n",
              "    .dataframe thead th {\n",
              "        text-align: right;\n",
              "    }\n",
              "</style>\n",
              "<table border=\"1\" class=\"dataframe\">\n",
              "  <thead>\n",
              "    <tr style=\"text-align: right;\">\n",
              "      <th></th>\n",
              "      <th>TV</th>\n",
              "      <th>radio</th>\n",
              "    </tr>\n",
              "  </thead>\n",
              "  <tbody>\n",
              "    <tr>\n",
              "      <th>19</th>\n",
              "      <td>-0.960169</td>\n",
              "      <td>-0.196603</td>\n",
              "    </tr>\n",
              "    <tr>\n",
              "      <th>171</th>\n",
              "      <td>-1.186874</td>\n",
              "      <td>-0.802453</td>\n",
              "    </tr>\n",
              "    <tr>\n",
              "      <th>108</th>\n",
              "      <td>-0.709849</td>\n",
              "      <td>-1.571677</td>\n",
              "    </tr>\n",
              "    <tr>\n",
              "      <th>99</th>\n",
              "      <td>1.643399</td>\n",
              "      <td>1.287388</td>\n",
              "    </tr>\n",
              "    <tr>\n",
              "      <th>178</th>\n",
              "      <td>0.232395</td>\n",
              "      <td>-1.061130</td>\n",
              "    </tr>\n",
              "  </tbody>\n",
              "</table>\n",
              "</div>"
            ],
            "text/plain": [
              "           TV     radio\n",
              "19  -0.960169 -0.196603\n",
              "171 -1.186874 -0.802453\n",
              "108 -0.709849 -1.571677\n",
              "99   1.643399  1.287388\n",
              "178  0.232395 -1.061130"
            ]
          },
          "execution_count": 262,
          "metadata": {},
          "output_type": "execute_result"
        }
      ],
      "source": [
        "X_test.head()"
      ],
      "id": "7sCybHG1HRNb"
    },
    {
      "cell_type": "code",
      "execution_count": null,
      "metadata": {
        "id": "axBXfw2lHRNb",
        "outputId": "cbfbd8df-b602-434b-a0dc-f416f4932c0e"
      },
      "outputs": [
        {
          "data": {
            "text/plain": [
              "LinearRegression()"
            ]
          },
          "execution_count": 263,
          "metadata": {},
          "output_type": "execute_result"
        }
      ],
      "source": [
        "X_test.head()"
      ],
      "id": "axBXfw2lHRNb"
    },
    {
      "cell_type": "code",
      "execution_count": null,
      "metadata": {
        "id": "2rM4VUyYHRNb",
        "outputId": "3cfd5b2c-8423-4159-e38c-bb5784592c13"
      },
      "outputs": [
        {
          "data": {
            "text/plain": [
              "LinearRegression()"
            ]
          },
          "execution_count": 264,
          "metadata": {},
          "output_type": "execute_result"
        }
      ],
      "source": [
        "regressor2"
      ],
      "id": "2rM4VUyYHRNb"
    },
    {
      "cell_type": "code",
      "execution_count": null,
      "metadata": {
        "id": "loQgP6McHRNc",
        "outputId": "115138e6-dfe6-472d-f7a5-dbbc26b9d7a3"
      },
      "outputs": [
        {
          "data": {
            "text/plain": [
              "14.217500000000001"
            ]
          },
          "execution_count": 265,
          "metadata": {},
          "output_type": "execute_result"
        }
      ],
      "source": [
        "# y = mx + c\n",
        "# Intercept c\n",
        "regressor2.intercept_"
      ],
      "id": "loQgP6McHRNc"
    },
    {
      "cell_type": "code",
      "execution_count": null,
      "metadata": {
        "id": "mAoY9ZSIHRNc",
        "outputId": "13dd66be-8d6a-4217-dbaf-9303ad4a5ee0"
      },
      "outputs": [
        {
          "data": {
            "text/plain": [
              "array([3.77015841, 2.86761977])"
            ]
          },
          "execution_count": 266,
          "metadata": {},
          "output_type": "execute_result"
        }
      ],
      "source": [
        "# y = mx + c\n",
        "# Slope\n",
        "regressor2.coef_"
      ],
      "id": "mAoY9ZSIHRNc"
    },
    {
      "cell_type": "code",
      "execution_count": null,
      "metadata": {
        "id": "wfhE22NvHRNc"
      },
      "outputs": [],
      "source": [
        "X_train.columns"
      ],
      "id": "wfhE22NvHRNc"
    },
    {
      "cell_type": "code",
      "execution_count": null,
      "metadata": {
        "id": "7ZgmhUXmHRNc",
        "outputId": "1c3203b1-e69a-4650-e441-b5a54c8c32eb"
      },
      "outputs": [
        {
          "data": {
            "text/plain": [
              "array([10.03372704,  7.44166635,  7.03428485, 24.10511311, 12.05074854,\n",
              "        6.56594425, 12.88437578, 15.06484066, 10.86271103, 16.29621257,\n",
              "       22.91893053,  9.13671762, 10.43024707, 15.43049562, 11.56453101,\n",
              "       12.12837638, 18.67914279, 10.71281572, 15.92006138, 17.2533412 ,\n",
              "       24.14827388,  9.56798468, 15.13842781, 12.406066  ,  5.72348257,\n",
              "       15.18558508, 12.27542944, 20.88115543, 13.39161043,  9.08563268,\n",
              "       13.11424341, 21.44899731, 18.1605751 , 21.12893441,  6.64285498,\n",
              "        6.14590697,  7.94710668, 13.10824453, 14.6830918 ,  6.21163209])"
            ]
          },
          "execution_count": 267,
          "metadata": {},
          "output_type": "execute_result"
        }
      ],
      "source": [
        "y_pred_test = regressor2.predict(X_test)\n",
        "y_pred_test"
      ],
      "id": "7ZgmhUXmHRNc"
    },
    {
      "cell_type": "code",
      "execution_count": null,
      "metadata": {
        "id": "pmtV4fitHRNc"
      },
      "outputs": [],
      "source": [
        "#print(y_test)"
      ],
      "id": "pmtV4fitHRNc"
    },
    {
      "cell_type": "code",
      "execution_count": null,
      "metadata": {
        "id": "2F2KvnUiHRNc"
      },
      "outputs": [],
      "source": [
        "y_pred_train = regressor2.predict(X_train)\n",
        "#y_pred_train"
      ],
      "id": "2F2KvnUiHRNc"
    },
    {
      "cell_type": "code",
      "execution_count": null,
      "metadata": {
        "id": "e0gWEuxfHRNc"
      },
      "outputs": [],
      "source": [
        "#y_train"
      ],
      "id": "e0gWEuxfHRNc"
    },
    {
      "cell_type": "code",
      "execution_count": null,
      "metadata": {
        "id": "ZK43b91THRNd",
        "outputId": "366a2039-d681-4482-e41f-5dddb0e87725"
      },
      "outputs": [
        {
          "data": {
            "text/html": [
              "<div>\n",
              "<style scoped>\n",
              "    .dataframe tbody tr th:only-of-type {\n",
              "        vertical-align: middle;\n",
              "    }\n",
              "\n",
              "    .dataframe tbody tr th {\n",
              "        vertical-align: top;\n",
              "    }\n",
              "\n",
              "    .dataframe thead th {\n",
              "        text-align: right;\n",
              "    }\n",
              "</style>\n",
              "<table border=\"1\" class=\"dataframe\">\n",
              "  <thead>\n",
              "    <tr style=\"text-align: right;\">\n",
              "      <th></th>\n",
              "      <th>TV</th>\n",
              "      <th>radio</th>\n",
              "    </tr>\n",
              "  </thead>\n",
              "  <tbody>\n",
              "    <tr>\n",
              "      <th>190</th>\n",
              "      <td>-1.556451</td>\n",
              "      <td>-0.768416</td>\n",
              "    </tr>\n",
              "    <tr>\n",
              "      <th>130</th>\n",
              "      <td>-1.073522</td>\n",
              "      <td>-0.775224</td>\n",
              "    </tr>\n",
              "    <tr>\n",
              "      <th>5</th>\n",
              "      <td>0.357555</td>\n",
              "      <td>-0.856911</td>\n",
              "    </tr>\n",
              "    <tr>\n",
              "      <th>84</th>\n",
              "      <td>-0.969615</td>\n",
              "      <td>1.437148</td>\n",
              "    </tr>\n",
              "    <tr>\n",
              "      <th>107</th>\n",
              "      <td>-1.482063</td>\n",
              "      <td>-0.843297</td>\n",
              "    </tr>\n",
              "  </tbody>\n",
              "</table>\n",
              "</div>"
            ],
            "text/plain": [
              "           TV     radio\n",
              "190 -1.556451 -0.768416\n",
              "130 -1.073522 -0.775224\n",
              "5    0.357555 -0.856911\n",
              "84  -0.969615  1.437148\n",
              "107 -1.482063 -0.843297"
            ]
          },
          "execution_count": 271,
          "metadata": {},
          "output_type": "execute_result"
        }
      ],
      "source": [
        "X_test.tail()"
      ],
      "id": "ZK43b91THRNd"
    },
    {
      "cell_type": "code",
      "execution_count": null,
      "metadata": {
        "id": "a_5ljESkHRNd",
        "outputId": "bfefa00f-52f1-44a2-e668-2ac289039710"
      },
      "outputs": [
        {
          "data": {
            "text/plain": [
              "array([10.03372704,  7.44166635,  7.03428485, 24.10511311, 12.05074854,\n",
              "        6.56594425, 12.88437578, 15.06484066, 10.86271103, 16.29621257,\n",
              "       22.91893053,  9.13671762, 10.43024707, 15.43049562, 11.56453101,\n",
              "       12.12837638, 18.67914279, 10.71281572, 15.92006138, 17.2533412 ,\n",
              "       24.14827388,  9.56798468, 15.13842781, 12.406066  ,  5.72348257,\n",
              "       15.18558508, 12.27542944, 20.88115543, 13.39161043,  9.08563268,\n",
              "       13.11424341, 21.44899731, 18.1605751 , 21.12893441,  6.64285498,\n",
              "        6.14590697,  7.94710668, 13.10824453, 14.6830918 ,  6.21163209])"
            ]
          },
          "execution_count": 272,
          "metadata": {},
          "output_type": "execute_result"
        }
      ],
      "source": [
        "y_pred_test"
      ],
      "id": "a_5ljESkHRNd"
    },
    {
      "cell_type": "markdown",
      "metadata": {
        "id": "OLMofE1bHRNd"
      },
      "source": [
        "# Compute how good is out model."
      ],
      "id": "OLMofE1bHRNd"
    },
    {
      "cell_type": "code",
      "execution_count": null,
      "metadata": {
        "id": "RvKEqZwQHRNd"
      },
      "outputs": [],
      "source": [
        "from sklearn.metrics import mean_absolute_error, mean_squared_error, r2_score\n"
      ],
      "id": "RvKEqZwQHRNd"
    },
    {
      "cell_type": "code",
      "execution_count": null,
      "metadata": {
        "id": "ChJjoAWQHRNe",
        "outputId": "1de35119-fe79-4f55-974b-f00d9a55ebed"
      },
      "outputs": [
        {
          "name": "stdout",
          "output_type": "stream",
          "text": [
            "0.906590009997456   0.860454166318657\n"
          ]
        }
      ],
      "source": [
        "R2_train = r2_score(y_train, y_pred_train)\n",
        "R2_test = r2_score(y_test, y_pred_test)\n",
        "print(R2_train,\" \",R2_test)"
      ],
      "id": "ChJjoAWQHRNe"
    },
    {
      "cell_type": "code",
      "execution_count": null,
      "metadata": {
        "id": "rApImQ1gHRNe",
        "outputId": "2f3fd02f-f132-4579-afff-aca9ed991621"
      },
      "outputs": [
        {
          "data": {
            "text/plain": [
              "(160, 2)"
            ]
          },
          "execution_count": 279,
          "metadata": {},
          "output_type": "execute_result"
        }
      ],
      "source": [
        "X_train.shape"
      ],
      "id": "rApImQ1gHRNe"
    },
    {
      "cell_type": "code",
      "execution_count": null,
      "metadata": {
        "id": "qqFwxHyjHRNe",
        "outputId": "7e4cf3a8-e780-4d02-847f-8cb057321c58"
      },
      "outputs": [
        {
          "name": "stdout",
          "output_type": "stream",
          "text": [
            "160 2\n"
          ]
        }
      ],
      "source": [
        "n = X_train.shape[0]\n",
        "p = X_train.shape[1]\n",
        "print(n,p)"
      ],
      "id": "qqFwxHyjHRNe"
    },
    {
      "cell_type": "code",
      "execution_count": null,
      "metadata": {
        "id": "mfXfdaikHRNe",
        "outputId": "abe52fe2-40b7-454c-88aa-9db1d3106b32"
      },
      "outputs": [
        {
          "data": {
            "text/plain": [
              "0.9054000738190796"
            ]
          },
          "execution_count": 281,
          "metadata": {},
          "output_type": "execute_result"
        }
      ],
      "source": [
        "num = (1-R2_train)*(n-1)\n",
        "den = n-p-1\n",
        "AR2_train = 1-(num/den)\n",
        "AR2_train"
      ],
      "id": "mfXfdaikHRNe"
    },
    {
      "cell_type": "code",
      "execution_count": null,
      "metadata": {
        "id": "SVEhTE5jHRNe",
        "outputId": "ca0a508b-29c3-42be-c60c-8e5c4bc45905"
      },
      "outputs": [
        {
          "data": {
            "text/plain": [
              "(40, 2)"
            ]
          },
          "execution_count": 282,
          "metadata": {},
          "output_type": "execute_result"
        }
      ],
      "source": [
        "X_test.shape"
      ],
      "id": "SVEhTE5jHRNe"
    },
    {
      "cell_type": "code",
      "execution_count": null,
      "metadata": {
        "id": "4NHVMVTnHRNe",
        "outputId": "bde6259e-b433-4473-deed-c3e2f45546d0"
      },
      "outputs": [
        {
          "name": "stdout",
          "output_type": "stream",
          "text": [
            "40 2\n"
          ]
        }
      ],
      "source": [
        "n = X_test.shape[0]\n",
        "p = X_test.shape[1]\n",
        "print(n,p)"
      ],
      "id": "4NHVMVTnHRNe"
    },
    {
      "cell_type": "code",
      "execution_count": null,
      "metadata": {
        "id": "JCZ274kpHRNe",
        "outputId": "91f7529f-850c-4e69-ef2d-1fd55dc9eaea"
      },
      "outputs": [
        {
          "data": {
            "text/plain": [
              "0.8529111482818277"
            ]
          },
          "execution_count": 284,
          "metadata": {},
          "output_type": "execute_result"
        }
      ],
      "source": [
        "num = (1-R2_test)*(n-1)\n",
        "den = n-p-1\n",
        "AR2_test = 1-(num/den)\n",
        "AR2_test"
      ],
      "id": "JCZ274kpHRNe"
    },
    {
      "cell_type": "raw",
      "metadata": {
        "id": "ovtA4k0gHRNf"
      },
      "source": [
        "We successfuly performed 2nd experiment as a Data Scientist.\n",
        "\n",
        "1. 80-20 split, random_state=0\n",
        "2. Standard Scaling\n",
        "3. Linear Regression with 2IVs\n",
        "\n",
        "Results:\n",
        "Ar2:\n",
        "Train: 0.9054\n",
        "Test: 0.8529"
      ],
      "id": "ovtA4k0gHRNf"
    },
    {
      "cell_type": "markdown",
      "metadata": {
        "id": "IhkiOLfoHRNf"
      },
      "source": [
        "## Here you go"
      ],
      "id": "IhkiOLfoHRNf"
    },
    {
      "cell_type": "code",
      "execution_count": null,
      "metadata": {
        "id": "UIg6Mmt7HRNf"
      },
      "outputs": [],
      "source": [
        "X = data.iloc[:,:-1]\n",
        "y = data.iloc[:,-1]\n"
      ],
      "id": "UIg6Mmt7HRNf"
    },
    {
      "cell_type": "code",
      "execution_count": null,
      "metadata": {
        "id": "pkyYjzbDHRNf"
      },
      "outputs": [],
      "source": [
        "# https://scikit-learn.org/stable/modules/generated/sklearn.model_selection.train_test_split.html\n",
        "from sklearn.model_selection import train_test_split\n",
        "X_train, X_test, y_train, y_test = train_test_split(X, y, test_size= 0.15, random_state=15)\n",
        "# It is good to have train size atleast twice that of test size"
      ],
      "id": "pkyYjzbDHRNf"
    },
    {
      "cell_type": "code",
      "execution_count": null,
      "metadata": {
        "id": "t-5WbZ6wHRNf"
      },
      "outputs": [],
      "source": [
        "from sklearn.preprocessing import StandardScaler, MinMaxScaler, RobustScaler\n",
        "#scaler = StandardScaler()\n",
        "#scaler = RobustScaler()\n",
        "scaler = MinMaxScaler()\n",
        "X_train[['TV', 'radio', 'newspaper']] = scaler.fit_transform(X_train[['TV', 'radio', 'newspaper']])\n",
        "X_test[['TV', 'radio', 'newspaper']] = scaler.transform(X_test[['TV', 'radio', 'newspaper']])"
      ],
      "id": "t-5WbZ6wHRNf"
    },
    {
      "cell_type": "code",
      "execution_count": null,
      "metadata": {
        "id": "P_tviEqGHRNf"
      },
      "outputs": [],
      "source": [
        "## drop c3 - It has low coeffecient value\n",
        "X_train.drop(['newspaper'], axis=1, inplace=True)\n",
        "X_test.drop(['newspaper'], axis=1, inplace=True)"
      ],
      "id": "P_tviEqGHRNf"
    },
    {
      "cell_type": "code",
      "execution_count": null,
      "metadata": {
        "id": "V_LtvULFHRNf",
        "outputId": "dd74def3-cf1e-405c-b81b-5cfbeb6f2090"
      },
      "outputs": [
        {
          "data": {
            "text/plain": [
              "LinearRegression(copy_X=True, fit_intercept=True, n_jobs=None, normalize=False)"
            ]
          },
          "execution_count": 78,
          "metadata": {},
          "output_type": "execute_result"
        }
      ],
      "source": [
        "from sklearn.linear_model import LinearRegression\n",
        "regressor2 = LinearRegression()\n",
        "regressor2.fit(X_train, y_train)\n"
      ],
      "id": "V_LtvULFHRNf"
    },
    {
      "cell_type": "code",
      "execution_count": null,
      "metadata": {
        "id": "CwP28oirHRNf",
        "outputId": "c462efeb-04e1-45e6-a66b-f200a459bdd3"
      },
      "outputs": [
        {
          "name": "stdout",
          "output_type": "stream",
          "text": [
            "2.9144301826438106\n",
            "[13.78104435  9.10564528]\n"
          ]
        }
      ],
      "source": [
        "print(regressor2.intercept_)\n",
        "print(regressor2.coef_)\n"
      ],
      "id": "CwP28oirHRNf"
    },
    {
      "cell_type": "code",
      "execution_count": null,
      "metadata": {
        "id": "oCtl4F0aHRNg"
      },
      "outputs": [],
      "source": [
        "y_pred_test = regressor2.predict(X_test)\n",
        "y_pred_train = regressor2.predict(X_train)"
      ],
      "id": "oCtl4F0aHRNg"
    },
    {
      "cell_type": "code",
      "execution_count": null,
      "metadata": {
        "id": "TrLluzjRHRNg",
        "outputId": "d8545321-0077-4a9a-943a-45c245cefe14"
      },
      "outputs": [
        {
          "name": "stdout",
          "output_type": "stream",
          "text": [
            "RMSE-test 1.575795960021901\n",
            "RMSE-train 1.6872155059158822\n",
            "R2_test 0.9202538232418309\n",
            "R2_test 0.891958415182157\n"
          ]
        }
      ],
      "source": [
        "from sklearn.metrics import mean_absolute_error, mean_squared_error, r2_score\n",
        "MAE_test = mean_absolute_error(y_test, y_pred_test)\n",
        "MAE_tr = mean_absolute_error(y_train, y_pred_train)\n",
        "MSE_tr = mean_squared_error(y_train, y_pred_train)\n",
        "RMSE_test = np.sqrt(mean_squared_error(y_test, y_pred_test))\n",
        "RMSE_tr = np.sqrt(mean_squared_error(y_train, y_pred_train))\n",
        "R2_test = r2_score(y_test, y_pred_test)\n",
        "R2_tr = r2_score(y_train, y_pred_train)\n",
        "print('RMSE-test',RMSE_test)\n",
        "print('RMSE-train',RMSE_tr)\n",
        "print('R2_test',R2_test)\n",
        "print('R2_tr',R2_tr)"
      ],
      "id": "TrLluzjRHRNg"
    },
    {
      "cell_type": "code",
      "execution_count": null,
      "metadata": {
        "id": "9-atvpx8HRNg",
        "outputId": "a0efdc6b-012d-4429-dbb6-294dc6d60a89"
      },
      "outputs": [
        {
          "name": "stdout",
          "output_type": "stream",
          "text": [
            "30 2\n"
          ]
        }
      ],
      "source": [
        "n = X_test.shape[0]\n",
        "p = X_test.shape[1]\n",
        "print(n,p)\n"
      ],
      "id": "9-atvpx8HRNg"
    },
    {
      "cell_type": "code",
      "execution_count": null,
      "metadata": {
        "id": "r8Pw2j5aHRNg",
        "outputId": "94879b60-0a32-4fd0-92b7-4e10e4d47fea"
      },
      "outputs": [
        {
          "data": {
            "text/plain": [
              "0.9143466990375221"
            ]
          },
          "execution_count": 83,
          "metadata": {},
          "output_type": "execute_result"
        }
      ],
      "source": [
        "num = (1-R2_test)*(n-1)\n",
        "den = n-p-1\n",
        "AR2_test = 1-(num/den)\n",
        "AR2_test"
      ],
      "id": "r8Pw2j5aHRNg"
    },
    {
      "cell_type": "code",
      "execution_count": null,
      "metadata": {
        "id": "wAda45YdHRNg",
        "outputId": "3006a4b1-8ca4-40ce-e555-0e8b5ec7b505"
      },
      "outputs": [
        {
          "name": "stdout",
          "output_type": "stream",
          "text": [
            "170 2\n"
          ]
        }
      ],
      "source": [
        "n = X_train.shape[0]\n",
        "p = X_train.shape[1]\n",
        "print(n,p)\n"
      ],
      "id": "wAda45YdHRNg"
    },
    {
      "cell_type": "code",
      "execution_count": null,
      "metadata": {
        "id": "JeDFHLjYHRNg",
        "outputId": "f26de2b8-88f0-44fa-d063-675515d5d77c"
      },
      "outputs": [
        {
          "data": {
            "text/plain": [
              "0.8906645039867338"
            ]
          },
          "execution_count": 85,
          "metadata": {},
          "output_type": "execute_result"
        }
      ],
      "source": [
        "num = (1-R2_tr)*(n-1)\n",
        "den = n-p-1\n",
        "AR2_test = 1-(num/den)\n",
        "AR2_test"
      ],
      "id": "JeDFHLjYHRNg"
    },
    {
      "cell_type": "code",
      "execution_count": null,
      "metadata": {
        "id": "ZiFcuqBFHRNh"
      },
      "outputs": [],
      "source": [],
      "id": "ZiFcuqBFHRNh"
    },
    {
      "cell_type": "markdown",
      "metadata": {
        "id": "bUo-o_w9HRNh"
      },
      "source": [
        "# End of Linear Regression"
      ],
      "id": "bUo-o_w9HRNh"
    },
    {
      "cell_type": "raw",
      "metadata": {
        "id": "UqlU-YBLHRNh"
      },
      "source": [
        "We successfuly performed 3rd experiment as a Data Scientist.\n",
        "\n",
        "1. 80-20 split, random_state=100\n",
        "2. Standard Scaling\n",
        "3. Linear Regression with 2IVs\n",
        "\n",
        "Results:\n",
        "Ar2:\n",
        "Train:\n",
        "Test:\n",
        "\n",
        "=========================================================================\n",
        "\n",
        "We successfuly performed 4th experiment as a Data Scientist.\n",
        "\n",
        "1. 80-20 split, random_state=50\n",
        "2. Standard Scaling\n",
        "3. Linear Regression with 2IVs\n",
        "\n",
        "Results:\n",
        "Ar2:\n",
        "Train:\n",
        "Test:\n",
        "\n",
        "=========================================================================\n",
        "\n",
        "We successfuly performed 5th experiment as a Data Scientist.\n",
        "\n",
        "1. 75-25 split, random_state=100\n",
        "2. Standard Scaling\n",
        "3. Linear Regression with 2IVs\n",
        "\n",
        "Results:\n",
        "Ar2:\n",
        "Train:\n",
        "Test:\n",
        "\n",
        "=========================================================================\n",
        "\n",
        "We successfuly performed 6th experiment as a Data Scientist.\n",
        "\n",
        "1. 75-25 split, random_state=100\n",
        "2. MinMax Scaling\n",
        "3. Linear Regression with 2IVs\n",
        "\n",
        "Results:\n",
        "Ar2:\n",
        "Train:\n",
        "Test:\n",
        "\n",
        "=========================================================================\n",
        "\n",
        "We successfuly performed 7th experiment as a Data Scientist.\n",
        "\n",
        "1. 80-20 split, random_state=100\n",
        "2. MinMax Scaling\n",
        "3. Linear Regression with 2IVs\n",
        "\n",
        "Results:\n",
        "Ar2:\n",
        "Train:\n",
        "Test:\n",
        "\n",
        "========================================================================="
      ],
      "id": "UqlU-YBLHRNh"
    },
    {
      "cell_type": "markdown",
      "metadata": {
        "id": "Jsfa0EgyHRNh"
      },
      "source": [
        "# Task for the weekend\n",
        "\n",
        "Perform atleast 10-15 experiments and formulate all the results of Adjusted R2 score in an excel sheet and let me know on Tuesday which combination of parameters worked best for you.\n",
        "\n",
        "The best one will be the one which has the highest value of Ar2 on Test dataset."
      ],
      "id": "Jsfa0EgyHRNh"
    },
    {
      "cell_type": "code",
      "execution_count": null,
      "metadata": {
        "id": "Um4mkVU3HRNl"
      },
      "outputs": [],
      "source": [],
      "id": "Um4mkVU3HRNl"
    },
    {
      "cell_type": "code",
      "execution_count": null,
      "metadata": {
        "id": "erZUCCROHRNl",
        "outputId": "ddf19444-ff33-40f3-ca5f-bf7583f91a54"
      },
      "outputs": [
        {
          "data": {
            "text/plain": [
              "['anagrams',\n",
              " 'anscombe',\n",
              " 'attention',\n",
              " 'brain_networks',\n",
              " 'car_crashes',\n",
              " 'diamonds',\n",
              " 'dots',\n",
              " 'exercise',\n",
              " 'flights',\n",
              " 'fmri',\n",
              " 'gammas',\n",
              " 'geyser',\n",
              " 'iris',\n",
              " 'mpg',\n",
              " 'penguins',\n",
              " 'planets',\n",
              " 'taxis',\n",
              " 'tips',\n",
              " 'titanic']"
            ]
          },
          "execution_count": 2,
          "metadata": {},
          "output_type": "execute_result"
        }
      ],
      "source": [
        "sns.get_dataset_names()"
      ],
      "id": "erZUCCROHRNl"
    },
    {
      "cell_type": "code",
      "execution_count": null,
      "metadata": {
        "id": "C34FWW42HRNl",
        "outputId": "03e1f8cf-01b2-4516-d446-9a0c21369511"
      },
      "outputs": [
        {
          "data": {
            "text/html": [
              "<div>\n",
              "<style scoped>\n",
              "    .dataframe tbody tr th:only-of-type {\n",
              "        vertical-align: middle;\n",
              "    }\n",
              "\n",
              "    .dataframe tbody tr th {\n",
              "        vertical-align: top;\n",
              "    }\n",
              "\n",
              "    .dataframe thead th {\n",
              "        text-align: right;\n",
              "    }\n",
              "</style>\n",
              "<table border=\"1\" class=\"dataframe\">\n",
              "  <thead>\n",
              "    <tr style=\"text-align: right;\">\n",
              "      <th></th>\n",
              "      <th>pickup</th>\n",
              "      <th>dropoff</th>\n",
              "      <th>passengers</th>\n",
              "      <th>distance</th>\n",
              "      <th>fare</th>\n",
              "      <th>tip</th>\n",
              "      <th>tolls</th>\n",
              "      <th>total</th>\n",
              "      <th>color</th>\n",
              "      <th>payment</th>\n",
              "      <th>pickup_zone</th>\n",
              "      <th>dropoff_zone</th>\n",
              "      <th>pickup_borough</th>\n",
              "      <th>dropoff_borough</th>\n",
              "    </tr>\n",
              "  </thead>\n",
              "  <tbody>\n",
              "    <tr>\n",
              "      <th>0</th>\n",
              "      <td>2019-03-23 20:21:09</td>\n",
              "      <td>2019-03-23 20:27:24</td>\n",
              "      <td>1</td>\n",
              "      <td>1.60</td>\n",
              "      <td>7.0</td>\n",
              "      <td>2.15</td>\n",
              "      <td>0.0</td>\n",
              "      <td>12.95</td>\n",
              "      <td>yellow</td>\n",
              "      <td>credit card</td>\n",
              "      <td>Lenox Hill West</td>\n",
              "      <td>UN/Turtle Bay South</td>\n",
              "      <td>Manhattan</td>\n",
              "      <td>Manhattan</td>\n",
              "    </tr>\n",
              "    <tr>\n",
              "      <th>1</th>\n",
              "      <td>2019-03-04 16:11:55</td>\n",
              "      <td>2019-03-04 16:19:00</td>\n",
              "      <td>1</td>\n",
              "      <td>0.79</td>\n",
              "      <td>5.0</td>\n",
              "      <td>0.00</td>\n",
              "      <td>0.0</td>\n",
              "      <td>9.30</td>\n",
              "      <td>yellow</td>\n",
              "      <td>cash</td>\n",
              "      <td>Upper West Side South</td>\n",
              "      <td>Upper West Side South</td>\n",
              "      <td>Manhattan</td>\n",
              "      <td>Manhattan</td>\n",
              "    </tr>\n",
              "  </tbody>\n",
              "</table>\n",
              "</div>"
            ],
            "text/plain": [
              "                pickup              dropoff  passengers  distance  fare   tip  \\\n",
              "0  2019-03-23 20:21:09  2019-03-23 20:27:24           1      1.60   7.0  2.15   \n",
              "1  2019-03-04 16:11:55  2019-03-04 16:19:00           1      0.79   5.0  0.00   \n",
              "\n",
              "   tolls  total   color      payment            pickup_zone  \\\n",
              "0    0.0  12.95  yellow  credit card        Lenox Hill West   \n",
              "1    0.0   9.30  yellow         cash  Upper West Side South   \n",
              "\n",
              "            dropoff_zone pickup_borough dropoff_borough  \n",
              "0    UN/Turtle Bay South      Manhattan       Manhattan  \n",
              "1  Upper West Side South      Manhattan       Manhattan  "
            ]
          },
          "execution_count": 3,
          "metadata": {},
          "output_type": "execute_result"
        }
      ],
      "source": [
        "tx=sns.load_dataset('taxis')\n",
        "tx.head(2)"
      ],
      "id": "C34FWW42HRNl"
    },
    {
      "cell_type": "code",
      "execution_count": null,
      "metadata": {
        "id": "8m0lUXsAHRNl",
        "outputId": "42753bf1-84f0-4bca-bcc0-1f4d46b2b1df"
      },
      "outputs": [
        {
          "data": {
            "text/plain": [
              "yellow    5451\n",
              "green      982\n",
              "Name: color, dtype: int64"
            ]
          },
          "execution_count": 6,
          "metadata": {},
          "output_type": "execute_result"
        }
      ],
      "source": [
        "tx.color.value_counts()"
      ],
      "id": "8m0lUXsAHRNl"
    },
    {
      "cell_type": "code",
      "execution_count": null,
      "metadata": {
        "id": "PKBkpAbRHRNm"
      },
      "outputs": [],
      "source": [
        "y"
      ],
      "id": "PKBkpAbRHRNm"
    }
  ],
  "metadata": {
    "kernelspec": {
      "display_name": "Python 3",
      "language": "python",
      "name": "python3"
    },
    "language_info": {
      "codemirror_mode": {
        "name": "ipython",
        "version": 3
      },
      "file_extension": ".py",
      "mimetype": "text/x-python",
      "name": "python",
      "nbconvert_exporter": "python",
      "pygments_lexer": "ipython3",
      "version": "3.7.6"
    },
    "colab": {
      "provenance": []
    }
  },
  "nbformat": 4,
  "nbformat_minor": 5
}